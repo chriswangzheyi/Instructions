{
 "cells": [
  {
   "cell_type": "markdown",
   "metadata": {},
   "source": [
    "# 零基础实战机器学习\n",
    "\n",
    "## 第17讲 集成学习-裂变转化预测\n",
    "\n",
    "作者 黄佳\n",
    "\n",
    "极客时间专栏链接：https://time.geekbang.org/column/intro/438\n",
    "\n",
    "\n",
    "问题：通过集成学习方法预测用户是否会购买促销品\n",
    "\n",
    "易速鲜花公司推出两张促销方案，分别是疯狂打折和买一送一。\n",
    "\n",
    "通过集成学习方法，我们可以预测出用户是否会购买这些打折商品。\n"
   ]
  },
  {
   "cell_type": "code",
   "execution_count": 1,
   "metadata": {},
   "outputs": [
    {
     "name": "stdout",
     "output_type": "stream",
     "text": [
      "用户数: 10000\n"
     ]
    },
    {
     "data": {
      "text/html": [
       "<div>\n",
       "<style scoped>\n",
       "    .dataframe tbody tr th:only-of-type {\n",
       "        vertical-align: middle;\n",
       "    }\n",
       "\n",
       "    .dataframe tbody tr th {\n",
       "        vertical-align: top;\n",
       "    }\n",
       "\n",
       "    .dataframe thead th {\n",
       "        text-align: right;\n",
       "    }\n",
       "</style>\n",
       "<table border=\"1\" class=\"dataframe\">\n",
       "  <thead>\n",
       "    <tr style=\"text-align: right;\">\n",
       "      <th></th>\n",
       "      <th>用户码</th>\n",
       "      <th>性别</th>\n",
       "      <th>年龄</th>\n",
       "      <th>城市</th>\n",
       "      <th>入会月数</th>\n",
       "      <th>会员类型</th>\n",
       "      <th>活跃用户</th>\n",
       "      <th>会员积分</th>\n",
       "      <th>总消费</th>\n",
       "      <th>年收入</th>\n",
       "      <th>裂变方案</th>\n",
       "      <th>是否转化</th>\n",
       "    </tr>\n",
       "  </thead>\n",
       "  <tbody>\n",
       "    <tr>\n",
       "      <th>0</th>\n",
       "      <td>1</td>\n",
       "      <td>女</td>\n",
       "      <td>40</td>\n",
       "      <td>杭州</td>\n",
       "      <td>9</td>\n",
       "      <td>2</td>\n",
       "      <td>1</td>\n",
       "      <td>516</td>\n",
       "      <td>6360.66</td>\n",
       "      <td>0.0000</td>\n",
       "      <td>疯狂打折</td>\n",
       "      <td>0</td>\n",
       "    </tr>\n",
       "    <tr>\n",
       "      <th>1</th>\n",
       "      <td>2</td>\n",
       "      <td>男</td>\n",
       "      <td>69</td>\n",
       "      <td>杭州</td>\n",
       "      <td>6</td>\n",
       "      <td>2</td>\n",
       "      <td>1</td>\n",
       "      <td>682</td>\n",
       "      <td>28605.00</td>\n",
       "      <td>0.0000</td>\n",
       "      <td>疯狂打折</td>\n",
       "      <td>0</td>\n",
       "    </tr>\n",
       "    <tr>\n",
       "      <th>2</th>\n",
       "      <td>3</td>\n",
       "      <td>女</td>\n",
       "      <td>32</td>\n",
       "      <td>杭州</td>\n",
       "      <td>9</td>\n",
       "      <td>1</td>\n",
       "      <td>1</td>\n",
       "      <td>803</td>\n",
       "      <td>10378.09</td>\n",
       "      <td>236311.0932</td>\n",
       "      <td>买一送一</td>\n",
       "      <td>1</td>\n",
       "    </tr>\n",
       "    <tr>\n",
       "      <th>3</th>\n",
       "      <td>4</td>\n",
       "      <td>女</td>\n",
       "      <td>37</td>\n",
       "      <td>苏州</td>\n",
       "      <td>0</td>\n",
       "      <td>2</td>\n",
       "      <td>1</td>\n",
       "      <td>778</td>\n",
       "      <td>25564.01</td>\n",
       "      <td>129909.8079</td>\n",
       "      <td>买一送一</td>\n",
       "      <td>1</td>\n",
       "    </tr>\n",
       "    <tr>\n",
       "      <th>4</th>\n",
       "      <td>5</td>\n",
       "      <td>男</td>\n",
       "      <td>55</td>\n",
       "      <td>苏州</td>\n",
       "      <td>4</td>\n",
       "      <td>3</td>\n",
       "      <td>0</td>\n",
       "      <td>547</td>\n",
       "      <td>3235.61</td>\n",
       "      <td>136976.1948</td>\n",
       "      <td>买一送一</td>\n",
       "      <td>1</td>\n",
       "    </tr>\n",
       "    <tr>\n",
       "      <th>...</th>\n",
       "      <td>...</td>\n",
       "      <td>...</td>\n",
       "      <td>...</td>\n",
       "      <td>...</td>\n",
       "      <td>...</td>\n",
       "      <td>...</td>\n",
       "      <td>...</td>\n",
       "      <td>...</td>\n",
       "      <td>...</td>\n",
       "      <td>...</td>\n",
       "      <td>...</td>\n",
       "      <td>...</td>\n",
       "    </tr>\n",
       "    <tr>\n",
       "      <th>9995</th>\n",
       "      <td>9996</td>\n",
       "      <td>男</td>\n",
       "      <td>49</td>\n",
       "      <td>扬州</td>\n",
       "      <td>7</td>\n",
       "      <td>2</td>\n",
       "      <td>1</td>\n",
       "      <td>746</td>\n",
       "      <td>1930.44</td>\n",
       "      <td>0.0000</td>\n",
       "      <td>疯狂打折</td>\n",
       "      <td>0</td>\n",
       "    </tr>\n",
       "    <tr>\n",
       "      <th>9996</th>\n",
       "      <td>9997</td>\n",
       "      <td>男</td>\n",
       "      <td>36</td>\n",
       "      <td>杭州</td>\n",
       "      <td>1</td>\n",
       "      <td>1</td>\n",
       "      <td>0</td>\n",
       "      <td>569</td>\n",
       "      <td>29593.82</td>\n",
       "      <td>82517.8587</td>\n",
       "      <td>买一送一</td>\n",
       "      <td>0</td>\n",
       "    </tr>\n",
       "    <tr>\n",
       "      <th>9997</th>\n",
       "      <td>9998</td>\n",
       "      <td>女</td>\n",
       "      <td>55</td>\n",
       "      <td>扬州</td>\n",
       "      <td>7</td>\n",
       "      <td>1</td>\n",
       "      <td>0</td>\n",
       "      <td>850</td>\n",
       "      <td>32841.84</td>\n",
       "      <td>0.0000</td>\n",
       "      <td>疯狂打折</td>\n",
       "      <td>1</td>\n",
       "    </tr>\n",
       "    <tr>\n",
       "      <th>9998</th>\n",
       "      <td>9999</td>\n",
       "      <td>男</td>\n",
       "      <td>35</td>\n",
       "      <td>扬州</td>\n",
       "      <td>5</td>\n",
       "      <td>1</td>\n",
       "      <td>1</td>\n",
       "      <td>529</td>\n",
       "      <td>21564.34</td>\n",
       "      <td>117800.7531</td>\n",
       "      <td>买一送一</td>\n",
       "      <td>0</td>\n",
       "    </tr>\n",
       "    <tr>\n",
       "      <th>9999</th>\n",
       "      <td>10000</td>\n",
       "      <td>女</td>\n",
       "      <td>48</td>\n",
       "      <td>苏州</td>\n",
       "      <td>5</td>\n",
       "      <td>1</td>\n",
       "      <td>0</td>\n",
       "      <td>657</td>\n",
       "      <td>19371.82</td>\n",
       "      <td>176622.9201</td>\n",
       "      <td>疯狂打折</td>\n",
       "      <td>1</td>\n",
       "    </tr>\n",
       "  </tbody>\n",
       "</table>\n",
       "<p>10000 rows × 12 columns</p>\n",
       "</div>"
      ],
      "text/plain": [
       "        用户码 性别  年龄  城市  入会月数  会员类型  活跃用户  会员积分       总消费          年收入  裂变方案  \\\n",
       "0         1  女  40  杭州     9     2     1   516   6360.66       0.0000  疯狂打折   \n",
       "1         2  男  69  杭州     6     2     1   682  28605.00       0.0000  疯狂打折   \n",
       "2         3  女  32  杭州     9     1     1   803  10378.09  236311.0932  买一送一   \n",
       "3         4  女  37  苏州     0     2     1   778  25564.01  129909.8079  买一送一   \n",
       "4         5  男  55  苏州     4     3     0   547   3235.61  136976.1948  买一送一   \n",
       "...     ... ..  ..  ..   ...   ...   ...   ...       ...          ...   ...   \n",
       "9995   9996  男  49  扬州     7     2     1   746   1930.44       0.0000  疯狂打折   \n",
       "9996   9997  男  36  杭州     1     1     0   569  29593.82   82517.8587  买一送一   \n",
       "9997   9998  女  55  扬州     7     1     0   850  32841.84       0.0000  疯狂打折   \n",
       "9998   9999  男  35  扬州     5     1     1   529  21564.34  117800.7531  买一送一   \n",
       "9999  10000  女  48  苏州     5     1     0   657  19371.82  176622.9201  疯狂打折   \n",
       "\n",
       "      是否转化  \n",
       "0        0  \n",
       "1        0  \n",
       "2        1  \n",
       "3        1  \n",
       "4        1  \n",
       "...    ...  \n",
       "9995     0  \n",
       "9996     0  \n",
       "9997     1  \n",
       "9998     0  \n",
       "9999     1  \n",
       "\n",
       "[10000 rows x 12 columns]"
      ]
     },
     "execution_count": 1,
     "metadata": {},
     "output_type": "execute_result"
    }
   ],
   "source": [
    "import pandas as pd #导入Pandas\n",
    "import numpy as np #导入NumPy\n",
    "df_fission = pd.read_csv('易速鲜花裂变转化.csv') #载入数据\n",
    "print('用户数:', df_fission.count()['用户码']) #查看数据条目数\n",
    "df_fission #显示头几行数据"
   ]
  },
  {
   "cell_type": "code",
   "execution_count": 2,
   "metadata": {},
   "outputs": [
    {
     "name": "stdout",
     "output_type": "stream",
     "text": [
      "Gender unique values [0 1]\n"
     ]
    },
    {
     "data": {
      "text/html": [
       "<div>\n",
       "<style scoped>\n",
       "    .dataframe tbody tr th:only-of-type {\n",
       "        vertical-align: middle;\n",
       "    }\n",
       "\n",
       "    .dataframe tbody tr th {\n",
       "        vertical-align: top;\n",
       "    }\n",
       "\n",
       "    .dataframe thead th {\n",
       "        text-align: right;\n",
       "    }\n",
       "</style>\n",
       "<table border=\"1\" class=\"dataframe\">\n",
       "  <thead>\n",
       "    <tr style=\"text-align: right;\">\n",
       "      <th></th>\n",
       "      <th>用户码</th>\n",
       "      <th>性别</th>\n",
       "      <th>年龄</th>\n",
       "      <th>入会月数</th>\n",
       "      <th>会员类型</th>\n",
       "      <th>活跃用户</th>\n",
       "      <th>会员积分</th>\n",
       "      <th>总消费</th>\n",
       "      <th>年收入</th>\n",
       "      <th>是否转化</th>\n",
       "      <th>城市_杭州</th>\n",
       "      <th>城市_苏州</th>\n",
       "      <th>裂变方案_疯狂打折</th>\n",
       "    </tr>\n",
       "  </thead>\n",
       "  <tbody>\n",
       "    <tr>\n",
       "      <th>0</th>\n",
       "      <td>1</td>\n",
       "      <td>0</td>\n",
       "      <td>40</td>\n",
       "      <td>9</td>\n",
       "      <td>2</td>\n",
       "      <td>1</td>\n",
       "      <td>516</td>\n",
       "      <td>6360.66</td>\n",
       "      <td>0.0000</td>\n",
       "      <td>0</td>\n",
       "      <td>1</td>\n",
       "      <td>0</td>\n",
       "      <td>1</td>\n",
       "    </tr>\n",
       "    <tr>\n",
       "      <th>1</th>\n",
       "      <td>2</td>\n",
       "      <td>1</td>\n",
       "      <td>69</td>\n",
       "      <td>6</td>\n",
       "      <td>2</td>\n",
       "      <td>1</td>\n",
       "      <td>682</td>\n",
       "      <td>28605.00</td>\n",
       "      <td>0.0000</td>\n",
       "      <td>0</td>\n",
       "      <td>1</td>\n",
       "      <td>0</td>\n",
       "      <td>1</td>\n",
       "    </tr>\n",
       "    <tr>\n",
       "      <th>2</th>\n",
       "      <td>3</td>\n",
       "      <td>0</td>\n",
       "      <td>32</td>\n",
       "      <td>9</td>\n",
       "      <td>1</td>\n",
       "      <td>1</td>\n",
       "      <td>803</td>\n",
       "      <td>10378.09</td>\n",
       "      <td>236311.0932</td>\n",
       "      <td>1</td>\n",
       "      <td>1</td>\n",
       "      <td>0</td>\n",
       "      <td>0</td>\n",
       "    </tr>\n",
       "    <tr>\n",
       "      <th>3</th>\n",
       "      <td>4</td>\n",
       "      <td>0</td>\n",
       "      <td>37</td>\n",
       "      <td>0</td>\n",
       "      <td>2</td>\n",
       "      <td>1</td>\n",
       "      <td>778</td>\n",
       "      <td>25564.01</td>\n",
       "      <td>129909.8079</td>\n",
       "      <td>1</td>\n",
       "      <td>0</td>\n",
       "      <td>1</td>\n",
       "      <td>0</td>\n",
       "    </tr>\n",
       "    <tr>\n",
       "      <th>4</th>\n",
       "      <td>5</td>\n",
       "      <td>1</td>\n",
       "      <td>55</td>\n",
       "      <td>4</td>\n",
       "      <td>3</td>\n",
       "      <td>0</td>\n",
       "      <td>547</td>\n",
       "      <td>3235.61</td>\n",
       "      <td>136976.1948</td>\n",
       "      <td>1</td>\n",
       "      <td>0</td>\n",
       "      <td>1</td>\n",
       "      <td>0</td>\n",
       "    </tr>\n",
       "    <tr>\n",
       "      <th>...</th>\n",
       "      <td>...</td>\n",
       "      <td>...</td>\n",
       "      <td>...</td>\n",
       "      <td>...</td>\n",
       "      <td>...</td>\n",
       "      <td>...</td>\n",
       "      <td>...</td>\n",
       "      <td>...</td>\n",
       "      <td>...</td>\n",
       "      <td>...</td>\n",
       "      <td>...</td>\n",
       "      <td>...</td>\n",
       "      <td>...</td>\n",
       "    </tr>\n",
       "    <tr>\n",
       "      <th>9995</th>\n",
       "      <td>9996</td>\n",
       "      <td>1</td>\n",
       "      <td>49</td>\n",
       "      <td>7</td>\n",
       "      <td>2</td>\n",
       "      <td>1</td>\n",
       "      <td>746</td>\n",
       "      <td>1930.44</td>\n",
       "      <td>0.0000</td>\n",
       "      <td>0</td>\n",
       "      <td>0</td>\n",
       "      <td>0</td>\n",
       "      <td>1</td>\n",
       "    </tr>\n",
       "    <tr>\n",
       "      <th>9996</th>\n",
       "      <td>9997</td>\n",
       "      <td>1</td>\n",
       "      <td>36</td>\n",
       "      <td>1</td>\n",
       "      <td>1</td>\n",
       "      <td>0</td>\n",
       "      <td>569</td>\n",
       "      <td>29593.82</td>\n",
       "      <td>82517.8587</td>\n",
       "      <td>0</td>\n",
       "      <td>1</td>\n",
       "      <td>0</td>\n",
       "      <td>0</td>\n",
       "    </tr>\n",
       "    <tr>\n",
       "      <th>9997</th>\n",
       "      <td>9998</td>\n",
       "      <td>0</td>\n",
       "      <td>55</td>\n",
       "      <td>7</td>\n",
       "      <td>1</td>\n",
       "      <td>0</td>\n",
       "      <td>850</td>\n",
       "      <td>32841.84</td>\n",
       "      <td>0.0000</td>\n",
       "      <td>1</td>\n",
       "      <td>0</td>\n",
       "      <td>0</td>\n",
       "      <td>1</td>\n",
       "    </tr>\n",
       "    <tr>\n",
       "      <th>9998</th>\n",
       "      <td>9999</td>\n",
       "      <td>1</td>\n",
       "      <td>35</td>\n",
       "      <td>5</td>\n",
       "      <td>1</td>\n",
       "      <td>1</td>\n",
       "      <td>529</td>\n",
       "      <td>21564.34</td>\n",
       "      <td>117800.7531</td>\n",
       "      <td>0</td>\n",
       "      <td>0</td>\n",
       "      <td>0</td>\n",
       "      <td>0</td>\n",
       "    </tr>\n",
       "    <tr>\n",
       "      <th>9999</th>\n",
       "      <td>10000</td>\n",
       "      <td>0</td>\n",
       "      <td>48</td>\n",
       "      <td>5</td>\n",
       "      <td>1</td>\n",
       "      <td>0</td>\n",
       "      <td>657</td>\n",
       "      <td>19371.82</td>\n",
       "      <td>176622.9201</td>\n",
       "      <td>1</td>\n",
       "      <td>0</td>\n",
       "      <td>1</td>\n",
       "      <td>1</td>\n",
       "    </tr>\n",
       "  </tbody>\n",
       "</table>\n",
       "<p>10000 rows × 13 columns</p>\n",
       "</div>"
      ],
      "text/plain": [
       "        用户码  性别  年龄  入会月数  会员类型  活跃用户  会员积分       总消费          年收入  是否转化  \\\n",
       "0         1   0  40     9     2     1   516   6360.66       0.0000     0   \n",
       "1         2   1  69     6     2     1   682  28605.00       0.0000     0   \n",
       "2         3   0  32     9     1     1   803  10378.09  236311.0932     1   \n",
       "3         4   0  37     0     2     1   778  25564.01  129909.8079     1   \n",
       "4         5   1  55     4     3     0   547   3235.61  136976.1948     1   \n",
       "...     ...  ..  ..   ...   ...   ...   ...       ...          ...   ...   \n",
       "9995   9996   1  49     7     2     1   746   1930.44       0.0000     0   \n",
       "9996   9997   1  36     1     1     0   569  29593.82   82517.8587     0   \n",
       "9997   9998   0  55     7     1     0   850  32841.84       0.0000     1   \n",
       "9998   9999   1  35     5     1     1   529  21564.34  117800.7531     0   \n",
       "9999  10000   0  48     5     1     0   657  19371.82  176622.9201     1   \n",
       "\n",
       "      城市_杭州  城市_苏州  裂变方案_疯狂打折  \n",
       "0         1      0          1  \n",
       "1         1      0          1  \n",
       "2         1      0          0  \n",
       "3         0      1          0  \n",
       "4         0      1          0  \n",
       "...     ...    ...        ...  \n",
       "9995      0      0          1  \n",
       "9996      1      0          0  \n",
       "9997      0      0          1  \n",
       "9998      0      0          0  \n",
       "9999      0      1          1  \n",
       "\n",
       "[10000 rows x 13 columns]"
      ]
     },
     "execution_count": 2,
     "metadata": {},
     "output_type": "execute_result"
    }
   ],
   "source": [
    "# 把二元类别文本数字化\n",
    "df_fission['性别'].replace(\"女\",0,inplace = True)\n",
    "df_fission['性别'].replace(\"男\",1,inplace=True)\n",
    "# 显示数字类别\n",
    "print(\"Gender unique values\",df_fission['性别'].unique())\n",
    "# 把多元类别转换成多个二元哑变量，然后贴回原始数据集\n",
    "df_fission = pd.get_dummies(df_fission, drop_first = True)\n",
    "# df_fission = [df_fission, d_city]\n",
    "# df_fission = pd.concat(df_bank, axis = 1)\n",
    "# 构建特征和标签集合\n",
    "# y = df_fission['Exited']\n",
    "# X = df_fission.drop(['Name', 'Exited', 'City'], axis=1)\n",
    "# X.head() #显示新的特征集\n",
    "df_fission"
   ]
  },
  {
   "cell_type": "code",
   "execution_count": 3,
   "metadata": {},
   "outputs": [
    {
     "name": "stderr",
     "output_type": "stream",
     "text": [
      "C:\\Users\\jacky.huang\\Anaconda3\\lib\\site-packages\\seaborn\\_decorators.py:36: FutureWarning: Pass the following variable as a keyword arg: x. From version 0.12, the only valid positional argument will be `data`, and passing other arguments without an explicit keyword will result in an error or misinterpretation.\n",
      "  warnings.warn(\n"
     ]
    },
    {
     "data": {
      "image/png": "[encoded data removed]",
      "text/plain": [
       "<Figure size 432x288 with 1 Axes>"
      ]
     },
     "metadata": {
      "needs_background": "light"
     },
     "output_type": "display_data"
    }
   ],
   "source": [
    "import matplotlib.pyplot as plt #导入pyplot模块\n",
    "import seaborn as sns #导入Seaborn\n",
    "fig = sns.countplot('是否转化', data=df_fission) #创建柱状计数图\n",
    "# fig.set_xticklabels(fig.get_xticklabels(),rotation=25) #X轴标签倾斜\n",
    "fig.set_ylabel(\"数目\") #Y轴标题\n",
    "plt.show() #显示图像"
   ]
  },
  {
   "cell_type": "markdown",
   "metadata": {},
   "source": [
    "### 构建特征和标签数据集"
   ]
  },
  {
   "cell_type": "code",
   "execution_count": 4,
   "metadata": {},
   "outputs": [],
   "source": [
    "# df_fission = df_fission.query(\"裂变类型 == '助力砍价'\")"
   ]
  },
  {
   "cell_type": "code",
   "execution_count": 5,
   "metadata": {},
   "outputs": [],
   "source": [
    "X = df_fission.drop(['用户码','是否转化'], axis = 1) # 构建特征集\n",
    "y = df_fission.是否转化.values # 构建标签集"
   ]
  },
  {
   "cell_type": "code",
   "execution_count": 6,
   "metadata": {},
   "outputs": [
    {
     "data": {
      "text/html": [
       "<div>\n",
       "<style scoped>\n",
       "    .dataframe tbody tr th:only-of-type {\n",
       "        vertical-align: middle;\n",
       "    }\n",
       "\n",
       "    .dataframe tbody tr th {\n",
       "        vertical-align: top;\n",
       "    }\n",
       "\n",
       "    .dataframe thead th {\n",
       "        text-align: right;\n",
       "    }\n",
       "</style>\n",
       "<table border=\"1\" class=\"dataframe\">\n",
       "  <thead>\n",
       "    <tr style=\"text-align: right;\">\n",
       "      <th></th>\n",
       "      <th>性别</th>\n",
       "      <th>年龄</th>\n",
       "      <th>入会月数</th>\n",
       "      <th>会员类型</th>\n",
       "      <th>活跃用户</th>\n",
       "      <th>会员积分</th>\n",
       "      <th>总消费</th>\n",
       "      <th>年收入</th>\n",
       "      <th>城市_杭州</th>\n",
       "      <th>城市_苏州</th>\n",
       "      <th>裂变方案_疯狂打折</th>\n",
       "    </tr>\n",
       "  </thead>\n",
       "  <tbody>\n",
       "    <tr>\n",
       "      <th>0</th>\n",
       "      <td>0</td>\n",
       "      <td>40</td>\n",
       "      <td>9</td>\n",
       "      <td>2</td>\n",
       "      <td>1</td>\n",
       "      <td>516</td>\n",
       "      <td>6360.66</td>\n",
       "      <td>0.0000</td>\n",
       "      <td>1</td>\n",
       "      <td>0</td>\n",
       "      <td>1</td>\n",
       "    </tr>\n",
       "    <tr>\n",
       "      <th>1</th>\n",
       "      <td>1</td>\n",
       "      <td>69</td>\n",
       "      <td>6</td>\n",
       "      <td>2</td>\n",
       "      <td>1</td>\n",
       "      <td>682</td>\n",
       "      <td>28605.00</td>\n",
       "      <td>0.0000</td>\n",
       "      <td>1</td>\n",
       "      <td>0</td>\n",
       "      <td>1</td>\n",
       "    </tr>\n",
       "    <tr>\n",
       "      <th>2</th>\n",
       "      <td>0</td>\n",
       "      <td>32</td>\n",
       "      <td>9</td>\n",
       "      <td>1</td>\n",
       "      <td>1</td>\n",
       "      <td>803</td>\n",
       "      <td>10378.09</td>\n",
       "      <td>236311.0932</td>\n",
       "      <td>1</td>\n",
       "      <td>0</td>\n",
       "      <td>0</td>\n",
       "    </tr>\n",
       "    <tr>\n",
       "      <th>3</th>\n",
       "      <td>0</td>\n",
       "      <td>37</td>\n",
       "      <td>0</td>\n",
       "      <td>2</td>\n",
       "      <td>1</td>\n",
       "      <td>778</td>\n",
       "      <td>25564.01</td>\n",
       "      <td>129909.8079</td>\n",
       "      <td>0</td>\n",
       "      <td>1</td>\n",
       "      <td>0</td>\n",
       "    </tr>\n",
       "    <tr>\n",
       "      <th>4</th>\n",
       "      <td>1</td>\n",
       "      <td>55</td>\n",
       "      <td>4</td>\n",
       "      <td>3</td>\n",
       "      <td>0</td>\n",
       "      <td>547</td>\n",
       "      <td>3235.61</td>\n",
       "      <td>136976.1948</td>\n",
       "      <td>0</td>\n",
       "      <td>1</td>\n",
       "      <td>0</td>\n",
       "    </tr>\n",
       "    <tr>\n",
       "      <th>...</th>\n",
       "      <td>...</td>\n",
       "      <td>...</td>\n",
       "      <td>...</td>\n",
       "      <td>...</td>\n",
       "      <td>...</td>\n",
       "      <td>...</td>\n",
       "      <td>...</td>\n",
       "      <td>...</td>\n",
       "      <td>...</td>\n",
       "      <td>...</td>\n",
       "      <td>...</td>\n",
       "    </tr>\n",
       "    <tr>\n",
       "      <th>9995</th>\n",
       "      <td>1</td>\n",
       "      <td>49</td>\n",
       "      <td>7</td>\n",
       "      <td>2</td>\n",
       "      <td>1</td>\n",
       "      <td>746</td>\n",
       "      <td>1930.44</td>\n",
       "      <td>0.0000</td>\n",
       "      <td>0</td>\n",
       "      <td>0</td>\n",
       "      <td>1</td>\n",
       "    </tr>\n",
       "    <tr>\n",
       "      <th>9996</th>\n",
       "      <td>1</td>\n",
       "      <td>36</td>\n",
       "      <td>1</td>\n",
       "      <td>1</td>\n",
       "      <td>0</td>\n",
       "      <td>569</td>\n",
       "      <td>29593.82</td>\n",
       "      <td>82517.8587</td>\n",
       "      <td>1</td>\n",
       "      <td>0</td>\n",
       "      <td>0</td>\n",
       "    </tr>\n",
       "    <tr>\n",
       "      <th>9997</th>\n",
       "      <td>0</td>\n",
       "      <td>55</td>\n",
       "      <td>7</td>\n",
       "      <td>1</td>\n",
       "      <td>0</td>\n",
       "      <td>850</td>\n",
       "      <td>32841.84</td>\n",
       "      <td>0.0000</td>\n",
       "      <td>0</td>\n",
       "      <td>0</td>\n",
       "      <td>1</td>\n",
       "    </tr>\n",
       "    <tr>\n",
       "      <th>9998</th>\n",
       "      <td>1</td>\n",
       "      <td>35</td>\n",
       "      <td>5</td>\n",
       "      <td>1</td>\n",
       "      <td>1</td>\n",
       "      <td>529</td>\n",
       "      <td>21564.34</td>\n",
       "      <td>117800.7531</td>\n",
       "      <td>0</td>\n",
       "      <td>0</td>\n",
       "      <td>0</td>\n",
       "    </tr>\n",
       "    <tr>\n",
       "      <th>9999</th>\n",
       "      <td>0</td>\n",
       "      <td>48</td>\n",
       "      <td>5</td>\n",
       "      <td>1</td>\n",
       "      <td>0</td>\n",
       "      <td>657</td>\n",
       "      <td>19371.82</td>\n",
       "      <td>176622.9201</td>\n",
       "      <td>0</td>\n",
       "      <td>1</td>\n",
       "      <td>1</td>\n",
       "    </tr>\n",
       "  </tbody>\n",
       "</table>\n",
       "<p>10000 rows × 11 columns</p>\n",
       "</div>"
      ],
      "text/plain": [
       "      性别  年龄  入会月数  会员类型  活跃用户  会员积分       总消费          年收入  城市_杭州  城市_苏州  \\\n",
       "0      0  40     9     2     1   516   6360.66       0.0000      1      0   \n",
       "1      1  69     6     2     1   682  28605.00       0.0000      1      0   \n",
       "2      0  32     9     1     1   803  10378.09  236311.0932      1      0   \n",
       "3      0  37     0     2     1   778  25564.01  129909.8079      0      1   \n",
       "4      1  55     4     3     0   547   3235.61  136976.1948      0      1   \n",
       "...   ..  ..   ...   ...   ...   ...       ...          ...    ...    ...   \n",
       "9995   1  49     7     2     1   746   1930.44       0.0000      0      0   \n",
       "9996   1  36     1     1     0   569  29593.82   82517.8587      1      0   \n",
       "9997   0  55     7     1     0   850  32841.84       0.0000      0      0   \n",
       "9998   1  35     5     1     1   529  21564.34  117800.7531      0      0   \n",
       "9999   0  48     5     1     0   657  19371.82  176622.9201      0      1   \n",
       "\n",
       "      裂变方案_疯狂打折  \n",
       "0             1  \n",
       "1             1  \n",
       "2             0  \n",
       "3             0  \n",
       "4             0  \n",
       "...         ...  \n",
       "9995          1  \n",
       "9996          0  \n",
       "9997          1  \n",
       "9998          0  \n",
       "9999          1  \n",
       "\n",
       "[10000 rows x 11 columns]"
      ]
     },
     "execution_count": 6,
     "metadata": {},
     "output_type": "execute_result"
    }
   ],
   "source": [
    "X"
   ]
  },
  {
   "cell_type": "code",
   "execution_count": 7,
   "metadata": {},
   "outputs": [],
   "source": [
    "from sklearn.model_selection import train_test_split\n",
    "X_train, X_test, y_train, y_test = train_test_split(X,y,test_size = 0.2, random_state = 0)"
   ]
  },
  {
   "cell_type": "code",
   "execution_count": 8,
   "metadata": {},
   "outputs": [],
   "source": [
    "from sklearn.preprocessing import MinMaxScaler #导入归一化缩放器\n",
    "scaler = MinMaxScaler() #创建归一化缩放器\n",
    "X_train = scaler.fit_transform(X_train) #拟合并转换训练集数据\n",
    "X_test = scaler.transform(X_test) #转换测试集数据"
   ]
  },
  {
   "cell_type": "code",
   "execution_count": 9,
   "metadata": {},
   "outputs": [
    {
     "data": {
      "text/plain": [
       "array([[0.        , 0.37837838, 0.2       , ..., 0.        , 0.        ,\n",
       "        0.        ],\n",
       "       [1.        , 0.27027027, 0.5       , ..., 1.        , 0.        ,\n",
       "        0.        ],\n",
       "       [0.        , 0.28378378, 0.7       , ..., 0.        , 0.        ,\n",
       "        1.        ],\n",
       "       ...,\n",
       "       [0.        , 0.68918919, 0.9       , ..., 0.        , 0.        ,\n",
       "        1.        ],\n",
       "       [0.        , 0.13513514, 0.9       , ..., 1.        , 0.        ,\n",
       "        0.        ],\n",
       "       [1.        , 0.10810811, 0.7       , ..., 0.        , 1.        ,\n",
       "        0.        ]])"
      ]
     },
     "execution_count": 9,
     "metadata": {},
     "output_type": "execute_result"
    }
   ],
   "source": [
    "X_train"
   ]
  },
  {
   "cell_type": "code",
   "execution_count": 10,
   "metadata": {},
   "outputs": [],
   "source": [
    "from sklearn.metrics import confusion_matrix # 导入混淆矩阵\n",
    "import seaborn as sns #导入seaborn画图工具箱\n",
    "def show_matrix(y_test, y_pred): # 定义一个函数显示混淆矩阵\n",
    "    cm = confusion_matrix(y_test,y_pred) # 调用混淆矩阵\n",
    "    plt.title(\"混淆矩阵\") # 标题\n",
    "    sns.heatmap(cm,annot=True,cmap=\"Blues\",fmt=\"d\",cbar=False) # 热力图设定\n",
    "    plt.show() # 显示混淆矩阵"
   ]
  },
  {
   "cell_type": "code",
   "execution_count": 11,
   "metadata": {},
   "outputs": [
    {
     "name": "stdout",
     "output_type": "stream",
     "text": [
      " 决策树测试准确率: 84.20%\n",
      " 决策树测试F1 分数: 54.20%\n",
      " 决策树Bagging 测试准确率: 85.15%\n",
      " 决策树Bagging 测试F1 分数: 56.52%\n"
     ]
    },
    {
     "data": {
      "image/png": "[encoded data removed]",
      "text/plain": [
       "<Figure size 432x288 with 1 Axes>"
      ]
     },
     "metadata": {
      "needs_background": "light"
     },
     "output_type": "display_data"
    }
   ],
   "source": [
    "# 对多棵决策树进行聚合(Bagging)\n",
    "from sklearn.ensemble import BaggingClassifier # 导入Bagging 分类器\n",
    "from sklearn.tree import DecisionTreeClassifier # 导入决策树分类器\n",
    "from sklearn.metrics import (f1_score, confusion_matrix) # 导入评估指标\n",
    "dt = BaggingClassifier(DecisionTreeClassifier()) # 只使用一棵决策树\n",
    "dt.fit(X_train, y_train) # 拟合模型\n",
    "y_pred = dt.predict(X_test) # 进行预测\n",
    "print(\" 决策树测试准确率: {:.2f}%\".format(dt.score(X_test, y_test)*100))\n",
    "print(\" 决策树测试F1 分数: {:.2f}%\".format(f1_score(y_test, y_pred)*100))\n",
    "bdt = BaggingClassifier(DecisionTreeClassifier()) # 树的Bagging\n",
    "bdt.fit(X_train, y_train) # 拟合模型\n",
    "y_pred = bdt.predict(X_test) # 进行预测\n",
    "print(\" 决策树Bagging 测试准确率: {:.2f}%\".format(bdt.score(X_test, y_test)*100))\n",
    "print(\" 决策树Bagging 测试F1 分数: {:.2f}%\".format(f1_score(y_test, y_pred)*100))\n",
    "show_matrix(y_test, y_pred)\n",
    "f1_bdt = f1_score(y_test, y_pred)*100"
   ]
  },
  {
   "cell_type": "code",
   "execution_count": 12,
   "metadata": {},
   "outputs": [
    {
     "name": "stdout",
     "output_type": "stream",
     "text": [
      " 随机森林测试准确率: 86.90%\n",
      " 随机森林测试F1 分数: 60.90%\n"
     ]
    },
    {
     "data": {
      "image/png": "[encoded data removed]",
      "text/plain": [
       "<Figure size 432x288 with 1 Axes>"
      ]
     },
     "metadata": {
      "needs_background": "light"
     },
     "output_type": "display_data"
    }
   ],
   "source": [
    "from sklearn.model_selection import GridSearchCV # 导入网格搜索工具\n",
    "from sklearn.ensemble import RandomForestClassifier # 导入随机森林模型\n",
    "rf = RandomForestClassifier() # 随机森林模型\n",
    "rf.fit(X_train, y_train) # 拟合模型\n",
    "y_pred = rf.predict(X_test) # 进行预测\n",
    "print(\" 随机森林测试准确率: {:.2f}%\".format(rf.score(X_test, y_test)*100))\n",
    "print(\" 随机森林测试F1 分数: {:.2f}%\".format(f1_score(y_test, y_pred)*100))\n",
    "show_matrix(y_test, y_pred)\n",
    "f1_rf = f1_score(y_test, y_pred)*100"
   ]
  },
  {
   "cell_type": "code",
   "execution_count": 13,
   "metadata": {},
   "outputs": [
    {
     "name": "stdout",
     "output_type": "stream",
     "text": [
      " 极端随机森林测试准确率: 85.05%\n",
      " 极端随机森林测试F1 分数: 54.90%\n"
     ]
    },
    {
     "data": {
      "image/png": "[encoded data removed]",
      "text/plain": [
       "<Figure size 432x288 with 1 Axes>"
      ]
     },
     "metadata": {
      "needs_background": "light"
     },
     "output_type": "display_data"
    }
   ],
   "source": [
    "from sklearn.ensemble import ExtraTreesClassifier # 导入极端随机森林模型\n",
    "ext = ExtraTreesClassifier() # 极端随机森林模型\n",
    "ext.fit(X_train, y_train) # 拟合模型\n",
    "y_pred = ext.predict(X_test) # 进行预测\n",
    "print(\" 极端随机森林测试准确率: {:.2f}%\".format(ext.score(X_test, y_test)*100))\n",
    "print(\" 极端随机森林测试F1 分数: {:.2f}%\".format(f1_score(y_test, y_pred)*100))\n",
    "show_matrix(y_test, y_pred)\n",
    "f1_ext = f1_score(y_test, y_pred)*100"
   ]
  },
  {
   "cell_type": "code",
   "execution_count": 14,
   "metadata": {},
   "outputs": [
    {
     "name": "stdout",
     "output_type": "stream",
     "text": [
      "AdaBoost 测试准确率: 79.60%\n",
      "AdaBoost 测试F1 分数: 50.72%\n"
     ]
    },
    {
     "data": {
      "image/png": "[encoded data removed]",
      "text/plain": [
       "<Figure size 432x288 with 1 Axes>"
      ]
     },
     "metadata": {
      "needs_background": "light"
     },
     "output_type": "display_data"
    }
   ],
   "source": [
    "from sklearn.ensemble import AdaBoostClassifier # 导入AdaBoost 模型\n",
    "dt = DecisionTreeClassifier() # 选择决策树分类器作为AdaBoost 的基准算法\n",
    "ada = AdaBoostClassifier(dt) # AdaBoost 模型\n",
    "ada.fit(X_train, y_train) # 拟合模型\n",
    "y_pred = ada.predict(X_test) # 进行预测\n",
    "print(\"AdaBoost 测试准确率: {:.2f}%\".format(ada.score(X_test, y_test)*100))\n",
    "print(\"AdaBoost 测试F1 分数: {:.2f}%\".format(f1_score(y_test, y_pred)*100))\n",
    "show_matrix(y_test, y_pred)\n",
    "f1_ada = f1_score(y_test, y_pred)*100"
   ]
  },
  {
   "cell_type": "code",
   "execution_count": 15,
   "metadata": {},
   "outputs": [
    {
     "name": "stdout",
     "output_type": "stream",
     "text": [
      " 梯度提升测试准确率: 86.60%\n",
      " 梯度提升测试F1 分数: 59.64%\n"
     ]
    },
    {
     "data": {
      "image/png": "[encoded data removed]",
      "text/plain": [
       "<Figure size 432x288 with 1 Axes>"
      ]
     },
     "metadata": {
      "needs_background": "light"
     },
     "output_type": "display_data"
    }
   ],
   "source": [
    "from sklearn.ensemble import GradientBoostingClassifier # 导入梯度提升模型\n",
    "gb = GradientBoostingClassifier() # 梯度提升模型\n",
    "gb.fit(X_train, y_train) # 拟合模型\n",
    "y_pred = gb.predict(X_test) # 进行预测\n",
    "print(\" 梯度提升测试准确率: {:.2f}%\".format(gb.score(X_test, y_test)*100))\n",
    "print(\" 梯度提升测试F1 分数: {:.2f}%\".format(f1_score(y_test, y_pred)*100))\n",
    "show_matrix(y_test, y_pred)\n",
    "f1_gb = f1_score(y_test, y_pred)*100"
   ]
  },
  {
   "cell_type": "code",
   "execution_count": 16,
   "metadata": {},
   "outputs": [
    {
     "name": "stderr",
     "output_type": "stream",
     "text": [
      "C:\\Users\\jacky.huang\\Anaconda3\\lib\\site-packages\\xgboost\\sklearn.py:1146: UserWarning: The use of label encoder in XGBClassifier is deprecated and will be removed in a future release. To remove this warning, do the following: 1) Pass option use_label_encoder=False when constructing XGBClassifier object; and 2) Encode your labels (y) as integers starting with 0, i.e. 0, 1, 2, ..., [num_class - 1].\n",
      "  warnings.warn(label_encoder_deprecation_msg, UserWarning)\n"
     ]
    },
    {
     "name": "stdout",
     "output_type": "stream",
     "text": [
      "[09:40:30] WARNING: C:/Users/Administrator/workspace/xgboost-win64_release_1.4.0/src/learner.cc:1095: Starting in XGBoost 1.3.0, the default evaluation metric used with the objective 'binary:logistic' was changed from 'error' to 'logloss'. Explicitly set eval_metric if you'd like to restore the old behavior.\n",
      "XGB 测试准确率: 85.45%\n",
      "XGB 测试F1 分数: 58.84%\n"
     ]
    },
    {
     "data": {
      "image/png": "[encoded data removed]",
      "text/plain": [
       "<Figure size 432x288 with 1 Axes>"
      ]
     },
     "metadata": {
      "needs_background": "light"
     },
     "output_type": "display_data"
    }
   ],
   "source": [
    "from xgboost import XGBClassifier # 导入XGB 模型\n",
    "xgb = XGBClassifier() # XGB 模型\n",
    "xgb.fit(X_train, y_train) # 拟合模型\n",
    "y_pred = xgb.predict(X_test) # 进行预测\n",
    "print(\"XGB 测试准确率: {:.2f}%\".format(xgb.score(X_test, y_test)*100))\n",
    "print(\"XGB 测试F1 分数: {:.2f}%\".format(f1_score(y_test, y_pred)*100))\n",
    "show_matrix(y_test, y_pred)\n",
    "f1_xgb = f1_score(y_test, y_pred)*100"
   ]
  },
  {
   "cell_type": "code",
   "execution_count": 17,
   "metadata": {},
   "outputs": [],
   "source": [
    "# from xgboost import XGBClassifier # 导入XGB 模型\n",
    "# xgb = XGBClassifier() # XGB 模型\n",
    "# # 使用网格搜索优化参数\n",
    "# xgb_param_grid = {'min_child_weight': [1, 5, 10],\n",
    "# 'gamma': [0.5, 1, 1.5, 2, 5],\n",
    "# 'subsample': [0.6, 0.8, 1.0],\n",
    "# 'colsample_bytree': [0.6, 0.8, 1.0],\n",
    "# 'max_depth': [3, 4, 5]}\n",
    "# xgb_gs = GridSearchCV(xgb, param_grid = xgb_param_grid,\n",
    "# scoring=\"f1\", n_jobs= 10, verbose = 1)\n",
    "# xgb_gs.fit(X_train, y_train) # 拟合模型\n",
    "# xgb_gs = xgb_gs.best_estimator_ # 最佳模型\n",
    "# y_pred = xgb_gs.predict(X_test) # 进行预测\n",
    "# print(\"XGB 测试准确率: {:.2f}%\".format(xgb_gs.score(X_test, y_test)*100))\n",
    "# print(\"XGB 测试F1分数: {:.2f}%\".format(f1_score(y_test, y_pred)*100))\n",
    "# show_matrix(y_test, y_pred)"
   ]
  },
  {
   "cell_type": "code",
   "execution_count": 18,
   "metadata": {},
   "outputs": [
    {
     "name": "stdout",
     "output_type": "stream",
     "text": [
      "Voting 测试准确率: {:.2f}% 86.0\n",
      "Voting 测试F1分数: {:.2f}% 59.06432748538012\n"
     ]
    }
   ],
   "source": [
    "from sklearn.ensemble import VotingClassifier # 导入Voting 模型\n",
    "# 把各种模型的预测结果进行Voting。同学们还可以加入更多模型如SVM, KNN 等\n",
    "voting = VotingClassifier(estimators=[('rf', rf),('bdt', bdt),('gb', gb),\n",
    "                                      ('ext', ext),('xgb', xgb),('ada', ada)],\n",
    "voting='soft', n_jobs=10)\n",
    "voting = voting.fit(X_train, y_train) # 拟合模型\n",
    "y_pred = voting.predict(X_test) # 进行预测\n",
    "print(\"Voting 测试准确率: {:.2f}%\", voting.score(X_test, y_test)*100)\n",
    "print(\"Voting 测试F1分数: {:.2f}%\", f1_score(y_test, y_pred)*100)"
   ]
  },
  {
   "cell_type": "code",
   "execution_count": 19,
   "metadata": {},
   "outputs": [],
   "source": [
    "# from sklearn.model_selection import GridSearchCV # 导入网格搜索工具\n",
    "# from sklearn.ensemble import RandomForestClassifier # 导入随机森林模型\n",
    "# rf = RandomForestClassifier() # 随机森林模型\n",
    "# # 使用网格搜索优化参数\n",
    "# rf_param_grid = {\"max_depth\": [None],\n",
    "# \"max_features\": [1, 3, 10],\n",
    "# \"min_samples_split\": [2, 3, 10],\n",
    "# \"min_samples_leaf\": [1, 3, 10],\n",
    "# \"bootstrap\": [True, False],\n",
    "# \"n_estimators\" :[100, 300],\n",
    "# \"criterion\": [\"gini\"]}\n",
    "# rf_gs = GridSearchCV(rf, param_grid = rf_param_grid,\n",
    "# scoring=\"f1\", n_jobs= 10, verbose = 1)\n",
    "# rf_gs.fit(X_train, y_train) # 拟合模型\n",
    "# rf_gs = rf_gs.best_estimator_ # 最佳模型\n",
    "# y_pred = rf_gs.predict(X_test) # 进行预测\n",
    "# print(\"调优后随机森林测试准确率: {:.2f}%\".format(rf_gs.score(X_test, y_test)*100))\n",
    "# print(\"调优后随机森林测试F1分数: {:.2f}%\".format(f1_score(y_test, y_pred)*100))"
   ]
  },
  {
   "cell_type": "code",
   "execution_count": 20,
   "metadata": {},
   "outputs": [],
   "source": [
    "X_train = np.asarray(X_train).astype(np.float32)\n",
    "X_test = np.asarray(X_test).astype(np.float32)"
   ]
  },
  {
   "cell_type": "code",
   "execution_count": 21,
   "metadata": {},
   "outputs": [
    {
     "name": "stdout",
     "output_type": "stream",
     "text": [
      "Model: \"sequential\"\n",
      "_________________________________________________________________\n",
      "Layer (type)                 Output Shape              Param #   \n",
      "=================================================================\n",
      "dense (Dense)                (None, 12)                144       \n",
      "_________________________________________________________________\n",
      "dense_1 (Dense)              (None, 24)                312       \n",
      "_________________________________________________________________\n",
      "dense_2 (Dense)              (None, 48)                1200      \n",
      "_________________________________________________________________\n",
      "dense_3 (Dense)              (None, 1)                 49        \n",
      "=================================================================\n",
      "Total params: 1,705\n",
      "Trainable params: 1,705\n",
      "Non-trainable params: 0\n",
      "_________________________________________________________________\n",
      "Epoch 1/30\n",
      "100/100 [==============================] - 1s 5ms/step - loss: 0.5404 - acc: 0.7692 - val_loss: 0.4967 - val_acc: 0.7875\n",
      "Epoch 2/30\n",
      "100/100 [==============================] - 0s 2ms/step - loss: 0.4716 - acc: 0.8000 - val_loss: 0.4842 - val_acc: 0.7875\n",
      "Epoch 3/30\n",
      "100/100 [==============================] - 0s 2ms/step - loss: 0.4601 - acc: 0.8009 - val_loss: 0.4675 - val_acc: 0.7950\n",
      "Epoch 4/30\n",
      "100/100 [==============================] - 0s 2ms/step - loss: 0.4511 - acc: 0.8069 - val_loss: 0.4558 - val_acc: 0.8012\n",
      "Epoch 5/30\n",
      "100/100 [==============================] - 0s 3ms/step - loss: 0.4402 - acc: 0.8133 - val_loss: 0.4456 - val_acc: 0.8056\n",
      "Epoch 6/30\n",
      "100/100 [==============================] - 0s 2ms/step - loss: 0.4315 - acc: 0.8142 - val_loss: 0.4341 - val_acc: 0.8169\n",
      "Epoch 7/30\n",
      "100/100 [==============================] - 0s 2ms/step - loss: 0.4244 - acc: 0.8161 - val_loss: 0.4270 - val_acc: 0.8175\n",
      "Epoch 8/30\n",
      "100/100 [==============================] - 0s 2ms/step - loss: 0.4225 - acc: 0.8213 - val_loss: 0.4234 - val_acc: 0.8169\n",
      "Epoch 9/30\n",
      "100/100 [==============================] - 0s 3ms/step - loss: 0.4144 - acc: 0.8197 - val_loss: 0.4172 - val_acc: 0.8194\n",
      "Epoch 10/30\n",
      "100/100 [==============================] - 0s 2ms/step - loss: 0.4081 - acc: 0.8253 - val_loss: 0.4088 - val_acc: 0.8269\n",
      "Epoch 11/30\n",
      "100/100 [==============================] - 0s 2ms/step - loss: 0.3992 - acc: 0.8248 - val_loss: 0.3985 - val_acc: 0.8300\n",
      "Epoch 12/30\n",
      "100/100 [==============================] - 0s 2ms/step - loss: 0.3859 - acc: 0.8350 - val_loss: 0.3860 - val_acc: 0.8344\n",
      "Epoch 13/30\n",
      "100/100 [==============================] - 0s 2ms/step - loss: 0.3755 - acc: 0.8417 - val_loss: 0.3753 - val_acc: 0.8419\n",
      "Epoch 14/30\n",
      "100/100 [==============================] - 0s 2ms/step - loss: 0.3651 - acc: 0.8491 - val_loss: 0.3705 - val_acc: 0.8475\n",
      "Epoch 15/30\n",
      "100/100 [==============================] - 0s 2ms/step - loss: 0.3601 - acc: 0.8477 - val_loss: 0.3636 - val_acc: 0.8469\n",
      "Epoch 16/30\n",
      "100/100 [==============================] - 0s 2ms/step - loss: 0.3548 - acc: 0.8525 - val_loss: 0.3586 - val_acc: 0.8544\n",
      "Epoch 17/30\n",
      "100/100 [==============================] - 0s 3ms/step - loss: 0.3540 - acc: 0.8514 - val_loss: 0.3559 - val_acc: 0.8531\n",
      "Epoch 18/30\n",
      "100/100 [==============================] - 0s 3ms/step - loss: 0.3501 - acc: 0.8533 - val_loss: 0.3555 - val_acc: 0.8587\n",
      "Epoch 19/30\n",
      "100/100 [==============================] - 0s 4ms/step - loss: 0.3495 - acc: 0.8547 - val_loss: 0.3558 - val_acc: 0.8512\n",
      "Epoch 20/30\n",
      "100/100 [==============================] - 0s 3ms/step - loss: 0.3480 - acc: 0.8561 - val_loss: 0.3517 - val_acc: 0.8575\n",
      "Epoch 21/30\n",
      "100/100 [==============================] - 0s 3ms/step - loss: 0.3451 - acc: 0.8573 - val_loss: 0.3524 - val_acc: 0.8550\n",
      "Epoch 22/30\n",
      "100/100 [==============================] - 0s 3ms/step - loss: 0.3446 - acc: 0.8591 - val_loss: 0.3525 - val_acc: 0.8544\n",
      "Epoch 23/30\n",
      "100/100 [==============================] - 0s 2ms/step - loss: 0.3440 - acc: 0.8584 - val_loss: 0.3485 - val_acc: 0.8575\n",
      "Epoch 24/30\n",
      "100/100 [==============================] - 0s 3ms/step - loss: 0.3414 - acc: 0.8592 - val_loss: 0.3528 - val_acc: 0.8512\n",
      "Epoch 25/30\n",
      "100/100 [==============================] - 0s 2ms/step - loss: 0.3422 - acc: 0.8597 - val_loss: 0.3496 - val_acc: 0.8544\n",
      "Epoch 26/30\n",
      "100/100 [==============================] - 0s 2ms/step - loss: 0.3411 - acc: 0.8592 - val_loss: 0.3448 - val_acc: 0.8606\n",
      "Epoch 27/30\n",
      "100/100 [==============================] - 0s 2ms/step - loss: 0.3400 - acc: 0.8608 - val_loss: 0.3450 - val_acc: 0.8581\n",
      "Epoch 28/30\n",
      "100/100 [==============================] - 0s 2ms/step - loss: 0.3387 - acc: 0.8616 - val_loss: 0.3440 - val_acc: 0.8594\n",
      "Epoch 29/30\n",
      "100/100 [==============================] - 0s 2ms/step - loss: 0.3383 - acc: 0.8627 - val_loss: 0.3436 - val_acc: 0.8587\n",
      "Epoch 30/30\n",
      "100/100 [==============================] - 0s 2ms/step - loss: 0.3384 - acc: 0.8617 - val_loss: 0.3407 - val_acc: 0.8587\n"
     ]
    }
   ],
   "source": [
    "import keras # 导入Keras库\n",
    "from keras.models import Sequential # 导入Keras序贯模型\n",
    "from keras.layers import Dense # 导入Keras密集连接层\n",
    "ann = Sequential() # 创建一个序贯ANN模型\n",
    "ann.add(Dense(units=12, input_dim=11, activation = 'relu')) # 添加输入层\n",
    "ann.add(Dense(units=24, activation = 'relu')) # 添加隐层\n",
    "ann.add(Dense(units=48, activation = 'relu')) # 添加隐层\n",
    "ann.add(Dense(units=1, activation = 'sigmoid')) # 添加输出层\n",
    "ann.summary() # 显示网络模型（这个语句不是必须的）\n",
    "# 编译神经网络，指定优化器，损失函数，以及评估标准\n",
    "ann.compile(optimizer = 'Adam', loss = 'binary_crossentropy', metrics = ['acc'])\n",
    "history = ann.fit(X_train, y_train, # 指定训练集\n",
    "                  epochs=30,        # 指定训练的轮次\n",
    "                  batch_size=64,    # 指定数据批量\n",
    "                  validation_split=0.2) #指定验证集,这里为了简化模型，直接用训练集数据\n",
    "# show_history(history) # 调用这个函数"
   ]
  },
  {
   "cell_type": "code",
   "execution_count": 22,
   "metadata": {},
   "outputs": [
    {
     "name": "stdout",
     "output_type": "stream",
     "text": [
      "神经网络测试F1分数: 57.80%\n"
     ]
    }
   ],
   "source": [
    "y_pred = ann.predict(X_test,batch_size=10) # 预测测试集的标签\n",
    "y_pred = np.round(y_pred) # 将分类概率值转换成0/1整数值\n",
    "print(\"神经网络测试F1分数: {:.2f}%\".format(f1_score(y_test, y_pred)*100))"
   ]
  },
  {
   "cell_type": "code",
   "execution_count": 23,
   "metadata": {},
   "outputs": [
    {
     "data": {
      "image/png": "[encoded data removed]",
      "text/plain": [
       "<Figure size 1152x360 with 1 Axes>"
      ]
     },
     "metadata": {
      "needs_background": "light"
     },
     "output_type": "display_data"
    }
   ],
   "source": [
    "# plt.rcParams['font.sans-serif']=['SimHei'] #用来正常显示中文标签\n",
    "# plt.rcParams['axes.unicode_minus']=False #用来正常显示负号\n",
    "# plt.rcParams[\"font.family\"]=['SimHei']\n",
    "methods = [\"树的Bagging\", \"随机森林\", \"极端随机森林\",\n",
    "\"AdaBoost\", \"GBDT\", \"XGBoost\"]\n",
    "f1 = [f1_bdt, f1_rf, f1_ext, f1_ada, f1_gb, f1_xgb]\n",
    "colors = [\"orange\", \"red\", \"purple\", \"magenta\", \"green\", \"blue\"]\n",
    "# sns.set_style(\"whitegrid\")\n",
    "plt.figure(figsize=(16, 5))\n",
    "plt.yticks(np.arange(0, 100, 10))\n",
    "plt.ylabel(\"F1分数\")\n",
    "plt.xlabel(\"算法\")\n",
    "sns.barplot(x=methods, y=f1, palette=colors)\n",
    "# plt.grid(b=None)\n",
    "plt.show()"
   ]
  },
  {
   "cell_type": "code",
   "execution_count": null,
   "metadata": {},
   "outputs": [],
   "source": []
  }
 ],
 "metadata": {
  "kernelspec": {
   "display_name": "Python 3",
   "language": "python",
   "name": "python3"
  },
  "language_info": {
   "codemirror_mode": {
    "name": "ipython",
    "version": 3
   },
   "file_extension": ".py",
   "mimetype": "text/x-python",
   "name": "python",
   "nbconvert_exporter": "python",
   "pygments_lexer": "ipython3",
   "version": "3.8.5"
  }
 },
 "nbformat": 4,
 "nbformat_minor": 2
}
