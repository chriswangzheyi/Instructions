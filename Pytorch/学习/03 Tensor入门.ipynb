{
 "cells": [
  {
   "cell_type": "code",
   "execution_count": 133,
   "id": "a229c147-7712-4ece-bd3a-d98e6cd46969",
   "metadata": {},
   "outputs": [
    {
     "name": "stdout",
     "output_type": "stream",
     "text": [
      "Looking in indexes: https://mirrors.aliyun.com/pypi/simple/\n",
      "Requirement already satisfied: torch in /opt/anaconda3/lib/python3.13/site-packages (2.8.0)\n",
      "Requirement already satisfied: filelock in /opt/anaconda3/lib/python3.13/site-packages (from torch) (3.19.1)\n",
      "Requirement already satisfied: typing-extensions>=4.10.0 in /opt/anaconda3/lib/python3.13/site-packages (from torch) (4.15.0)\n",
      "Requirement already satisfied: setuptools in /opt/anaconda3/lib/python3.13/site-packages (from torch) (80.9.0)\n",
      "Requirement already satisfied: sympy>=1.13.3 in /opt/anaconda3/lib/python3.13/site-packages (from torch) (1.14.0)\n",
      "Requirement already satisfied: networkx in /opt/anaconda3/lib/python3.13/site-packages (from torch) (3.5)\n",
      "Requirement already satisfied: jinja2 in /opt/anaconda3/lib/python3.13/site-packages (from torch) (3.1.6)\n",
      "Requirement already satisfied: fsspec in /opt/anaconda3/lib/python3.13/site-packages (from torch) (2025.9.0)\n",
      "Requirement already satisfied: mpmath<1.4,>=1.1.0 in /opt/anaconda3/lib/python3.13/site-packages (from sympy>=1.13.3->torch) (1.3.0)\n",
      "Requirement already satisfied: MarkupSafe>=2.0 in /opt/anaconda3/lib/python3.13/site-packages (from jinja2->torch) (3.0.2)\n"
     ]
    }
   ],
   "source": [
    "!pip install torch"
   ]
  },
  {
   "cell_type": "code",
   "execution_count": 134,
   "id": "b77ff95b-2407-4722-8bd9-c985a9838c62",
   "metadata": {},
   "outputs": [
    {
     "data": {
      "text/plain": [
       "tensor([1, 2, 3])"
      ]
     },
     "execution_count": 134,
     "metadata": {},
     "output_type": "execute_result"
    }
   ],
   "source": [
    "import torch  \n",
    "data = [1, 2, 3]\n",
    "\n",
    "## 方法1：直接创建tensor\n",
    "torch.tensor(data, dtype=None, device=None,requires_grad=False)"
   ]
  },
  {
   "cell_type": "code",
   "execution_count": 135,
   "id": "c4c93592-7dee-43c2-993e-77bb7d5805be",
   "metadata": {},
   "outputs": [
    {
     "data": {
      "text/plain": [
       "tensor([[1., 2., 3.],\n",
       "        [4., 5., 6.]])"
      ]
     },
     "execution_count": 135,
     "metadata": {},
     "output_type": "execute_result"
    }
   ],
   "source": [
    "import numpy as np\n",
    "ndarry = np.array([[1, 2, 3],\n",
    "                    [4, 5, 6]], dtype=np.float32)\n",
    "\n",
    "## 方法2：从Numpy中创建\n",
    "torch.from_numpy(ndarry)"
   ]
  },
  {
   "cell_type": "code",
   "execution_count": 136,
   "id": "7f1a7fd4-b1d9-4506-93b7-213c3d14c930",
   "metadata": {},
   "outputs": [
    {
     "data": {
      "text/plain": [
       "tensor([[0., 0., 0.,  ..., 0., 0., 0.],\n",
       "        [0., 0., 0.,  ..., 0., 0., 0.],\n",
       "        [0., 0., 0.,  ..., 0., 0., 0.],\n",
       "        ...,\n",
       "        [0., 0., 0.,  ..., 0., 0., 0.],\n",
       "        [0., 0., 0.,  ..., 0., 0., 0.],\n",
       "        [0., 0., 0.,  ..., 0., 0., 0.]])"
      ]
     },
     "execution_count": 136,
     "metadata": {},
     "output_type": "execute_result"
    }
   ],
   "source": [
    "# 创建零矩阵 Tensor\n",
    "size = (100, 100)\n",
    "torch.zeros(*size, dtype=None)"
   ]
  },
  {
   "cell_type": "code",
   "execution_count": 137,
   "id": "07062d70-2148-4a17-92d9-c8f546e3ee0d",
   "metadata": {},
   "outputs": [
    {
     "data": {
      "text/plain": [
       "tensor([[1., 0., 0.,  ..., 0., 0., 0.],\n",
       "        [0., 1., 0.,  ..., 0., 0., 0.],\n",
       "        [0., 0., 1.,  ..., 0., 0., 0.],\n",
       "        ...,\n",
       "        [0., 0., 0.,  ..., 0., 0., 0.],\n",
       "        [0., 0., 0.,  ..., 0., 0., 0.],\n",
       "        [0., 0., 0.,  ..., 0., 0., 0.]])"
      ]
     },
     "execution_count": 137,
     "metadata": {},
     "output_type": "execute_result"
    }
   ],
   "source": [
    "# 对角线都为1\n",
    "torch.eye(100, 200, dtype=torch.float32)"
   ]
  },
  {
   "cell_type": "code",
   "execution_count": 138,
   "id": "ef655b00-11b8-4f0b-af3f-a6bdeb553afd",
   "metadata": {},
   "outputs": [
    {
     "data": {
      "text/plain": [
       "tensor([[1, 2, 1,  ..., 1, 0, 2],\n",
       "        [2, 1, 1,  ..., 0, 1, 2],\n",
       "        [1, 0, 0,  ..., 2, 2, 1],\n",
       "        ...,\n",
       "        [1, 0, 2,  ..., 0, 1, 1],\n",
       "        [2, 1, 2,  ..., 1, 0, 1],\n",
       "        [2, 0, 1,  ..., 0, 2, 0]])"
      ]
     },
     "execution_count": 138,
     "metadata": {},
     "output_type": "execute_result"
    }
   ],
   "source": [
    "# 随机矩阵\n",
    "size = (100, 100)\n",
    "mean = 1\n",
    "std = 1\n",
    "low = 0\n",
    "high = 3\n",
    "torch.rand(size)\n",
    "torch.randn(size)\n",
    "torch.normal(mean, std, size)\n",
    "torch.randint(low, high, size)"
   ]
  },
  {
   "cell_type": "markdown",
   "id": "5da35acd-22ed-496f-9bdd-860b9cb8a0a4",
   "metadata": {},
   "source": [
    "# Tensor 的常用操作"
   ]
  },
  {
   "cell_type": "markdown",
   "id": "4d0e18ad-8f84-4761-906f-4337b6a4330e",
   "metadata": {},
   "source": [
    "## 获取形状"
   ]
  },
  {
   "cell_type": "code",
   "execution_count": 139,
   "id": "9e277c6c-2a47-410f-bfee-f73cf6358f65",
   "metadata": {},
   "outputs": [
    {
     "data": {
      "text/plain": [
       "torch.Size([2, 3, 5])"
      ]
     },
     "execution_count": 139,
     "metadata": {},
     "output_type": "execute_result"
    }
   ],
   "source": [
    "a=torch.zeros(2, 3, 5)\n",
    "a.shape"
   ]
  },
  {
   "cell_type": "code",
   "execution_count": 140,
   "id": "d4c0b8f0-766a-4c99-937a-26cbd4967655",
   "metadata": {},
   "outputs": [
    {
     "data": {
      "text/plain": [
       "torch.Size([2, 3, 5])"
      ]
     },
     "execution_count": 140,
     "metadata": {},
     "output_type": "execute_result"
    }
   ],
   "source": [
    "a.size()"
   ]
  },
  {
   "cell_type": "code",
   "execution_count": 141,
   "id": "0f353926-2a08-4363-9ff7-3d890ee16c61",
   "metadata": {},
   "outputs": [
    {
     "data": {
      "text/plain": [
       "30"
      ]
     },
     "execution_count": 141,
     "metadata": {},
     "output_type": "execute_result"
    }
   ],
   "source": [
    "a.numel() # 使用 numel() 函数直接统计元素数量。"
   ]
  },
  {
   "cell_type": "markdown",
   "id": "179569c6-a3b7-444e-8ed7-b514a9b2fcbf",
   "metadata": {},
   "source": [
    "## 矩阵转秩 (维度转换）"
   ]
  },
  {
   "cell_type": "code",
   "execution_count": 142,
   "id": "82380e69-651b-4716-ae4d-78a5568f0f0a",
   "metadata": {},
   "outputs": [
    {
     "data": {
      "text/plain": [
       "torch.Size([2, 3, 5])"
      ]
     },
     "execution_count": 142,
     "metadata": {},
     "output_type": "execute_result"
    }
   ],
   "source": [
    "x = torch.rand(2,3,5)\n",
    "x.shape"
   ]
  },
  {
   "cell_type": "code",
   "execution_count": 143,
   "id": "8a9f6927-f97d-4a37-b4e2-e01ec41eb828",
   "metadata": {},
   "outputs": [
    {
     "data": {
      "text/plain": [
       "torch.Size([5, 3, 2])"
      ]
     },
     "execution_count": 143,
     "metadata": {},
     "output_type": "execute_result"
    }
   ],
   "source": [
    "x = x.permute(2,1,0)\n",
    "x.shape\n",
    "\n",
    "## 解释\n",
    "#permute 是 维度重排，它不会改变数据，只是换了维度的顺序。\n",
    "#(2, 1, 0) 的意思是：\n",
    "#新的第0维 = 原来的第2维\n",
    "#新的第1维 = 原来的第1维\n",
    "#新的第2维 = 原来的第0维\n",
    "\n",
    "#原来 shape 是 [2, 3, 5]：\n",
    "#维度0 = 2\n",
    "#维度1 = 3\n",
    "#维度2 = 5\n",
    "\n",
    "#换位后：\n",
    "#新维度0 ← 原维度2 → 5\n",
    "#新维度1 ← 原维度1 → 3\n",
    "#新维度2 ← 原维度0 → 2\n"
   ]
  },
  {
   "cell_type": "code",
   "execution_count": 144,
   "id": "bb48e695-414c-494c-ab98-d9dbf2dd25e9",
   "metadata": {},
   "outputs": [
    {
     "data": {
      "text/plain": [
       "torch.Size([5, 3, 2])"
      ]
     },
     "execution_count": 144,
     "metadata": {},
     "output_type": "execute_result"
    }
   ],
   "source": [
    "x.shape"
   ]
  },
  {
   "cell_type": "code",
   "execution_count": 145,
   "id": "99e6fb81-a40c-410c-b9d7-09c482332e83",
   "metadata": {},
   "outputs": [
    {
     "data": {
      "text/plain": [
       "torch.Size([3, 5, 2])"
      ]
     },
     "execution_count": 145,
     "metadata": {},
     "output_type": "execute_result"
    }
   ],
   "source": [
    "x = x.transpose(1,0)   # transpose，不同于 permute，它每次只能转换两个维度，或者说交换两个维度的数据\n",
    "x.shape"
   ]
  },
  {
   "cell_type": "markdown",
   "id": "a4048f29-b676-4c64-b0aa-6b685a5b0396",
   "metadata": {},
   "source": [
    "## 形状变换"
   ]
  },
  {
   "cell_type": "code",
   "execution_count": 146,
   "id": "39a3185a-2278-49c6-8052-1747c3a9960a",
   "metadata": {},
   "outputs": [
    {
     "data": {
      "text/plain": [
       "torch.Size([4, 4])"
      ]
     },
     "execution_count": 146,
     "metadata": {},
     "output_type": "execute_result"
    }
   ],
   "source": [
    "x = torch.randn(4, 4)\n",
    "x.shape"
   ]
  },
  {
   "cell_type": "code",
   "execution_count": 147,
   "id": "cfe70fca-b747-45f3-b7e5-6dfff0a349f8",
   "metadata": {},
   "outputs": [
    {
     "data": {
      "text/plain": [
       "torch.Size([2, 8])"
      ]
     },
     "execution_count": 147,
     "metadata": {},
     "output_type": "execute_result"
    }
   ],
   "source": [
    "x = x.view(2,8)  #通过 view 函数，将其修改为[2, 8]形状的 Tensor\n",
    "x.shape"
   ]
  },
  {
   "cell_type": "code",
   "execution_count": 148,
   "id": "3afc9a5a-9d62-4723-9887-89e896e2ffc0",
   "metadata": {},
   "outputs": [
    {
     "data": {
      "text/plain": [
       "torch.Size([4, 4])"
      ]
     },
     "execution_count": 148,
     "metadata": {},
     "output_type": "execute_result"
    }
   ],
   "source": [
    "x = x.reshape(4,4) #通过reshape函数，修改其为[4,4]形状的Tensor\n",
    "x.shape"
   ]
  },
  {
   "cell_type": "markdown",
   "id": "1677b154-6c16-4885-b06f-174967e35f2b",
   "metadata": {},
   "source": [
    "## 增减维度"
   ]
  },
  {
   "cell_type": "code",
   "execution_count": 149,
   "id": "8a9ca1e9-24f4-4058-9b7f-09dfb4400237",
   "metadata": {},
   "outputs": [],
   "source": [
    "##squeeze()"
   ]
  },
  {
   "cell_type": "code",
   "execution_count": 150,
   "id": "09553b3d-991f-414e-ad0e-1313e80b9ed9",
   "metadata": {},
   "outputs": [
    {
     "data": {
      "text/plain": [
       "torch.Size([2, 1, 3])"
      ]
     },
     "execution_count": 150,
     "metadata": {},
     "output_type": "execute_result"
    }
   ],
   "source": [
    "x = torch.rand(2,1,3)\n",
    "x.shape"
   ]
  },
  {
   "cell_type": "code",
   "execution_count": 151,
   "id": "1be8d0b0-79ab-4944-a8b8-11a2316d3c65",
   "metadata": {},
   "outputs": [
    {
     "data": {
      "text/plain": [
       "torch.Size([2, 3])"
      ]
     },
     "execution_count": 151,
     "metadata": {},
     "output_type": "execute_result"
    }
   ],
   "source": [
    "y = x.squeeze(1)\n",
    "y.shape\n",
    "\n",
    "#squeeze(1) 的意思是：尝试压缩第 1 维\n",
    "#因为第1维的长度 = 1，可以被移除\n",
    "#所以 [2, 1, 3] → [2, 3]"
   ]
  },
  {
   "cell_type": "code",
   "execution_count": 152,
   "id": "03e48657-e96b-4d97-9921-d947f665d091",
   "metadata": {},
   "outputs": [
    {
     "data": {
      "text/plain": [
       "torch.Size([2, 3])"
      ]
     },
     "execution_count": 152,
     "metadata": {},
     "output_type": "execute_result"
    }
   ],
   "source": [
    "z = y.squeeze(1)\n",
    "z.shape\n",
    "\n",
    "#现在 y.shape = [2, 3]，第1维的长度是 3，不等于 1\n",
    "#所以 无法压缩，shape 不变\n",
    "#结果还是 [2, 3]"
   ]
  },
  {
   "cell_type": "markdown",
   "id": "3e97be38-f6e1-43c3-a5f8-b0362d451251",
   "metadata": {},
   "source": [
    "总结：\n",
    "squeeze = 把长度为1的维度去掉\n",
    "如果指定的维度大小 ≠ 1，就不做任何事\n",
    "这就是为什么第二次 squeeze(1) 没有效果。"
   ]
  },
  {
   "cell_type": "code",
   "execution_count": 153,
   "id": "096a1b49-59fc-4270-8a3e-e808f8a122ff",
   "metadata": {},
   "outputs": [],
   "source": [
    "## unsqueeze()"
   ]
  },
  {
   "cell_type": "code",
   "execution_count": 154,
   "id": "3dd33b86-4c90-4cc6-81fe-ef37b084c454",
   "metadata": {},
   "outputs": [
    {
     "data": {
      "text/plain": [
       "torch.Size([2, 1, 1, 3])"
      ]
     },
     "execution_count": 154,
     "metadata": {},
     "output_type": "execute_result"
    }
   ],
   "source": [
    "x = torch.rand(2,1,3)\n",
    "y = x.unsqueeze(2)\n",
    "y.shape\n",
    "\n",
    "\n",
    "# unsqueeze(dim) 会在指定位置 插入一个新维度（大小=1）\n",
    "# unsqueeze(2) 的意思是：在 第2维 插入一个新维度"
   ]
  },
  {
   "cell_type": "code",
   "execution_count": null,
   "id": "19259a19-1d2f-4335-8ec1-0db85c165ee8",
   "metadata": {},
   "outputs": [],
   "source": []
  }
 ],
 "metadata": {
  "kernelspec": {
   "display_name": "Python 3 (ipykernel)",
   "language": "python",
   "name": "python3"
  },
  "language_info": {
   "codemirror_mode": {
    "name": "ipython",
    "version": 3
   },
   "file_extension": ".py",
   "mimetype": "text/x-python",
   "name": "python",
   "nbconvert_exporter": "python",
   "pygments_lexer": "ipython3",
   "version": "3.13.7"
  }
 },
 "nbformat": 4,
 "nbformat_minor": 5
}
