{
 "cells": [
  {
   "cell_type": "code",
   "execution_count": 21,
   "id": "70c49e3a-dc11-41c7-bae7-09198af99737",
   "metadata": {},
   "outputs": [
    {
     "name": "stdout",
     "output_type": "stream",
     "text": [
      "Looking in indexes: https://mirrors.aliyun.com/pypi/simple/\n",
      "Requirement already satisfied: torch in /opt/anaconda3/lib/python3.13/site-packages (2.8.0)\n",
      "Requirement already satisfied: filelock in /opt/anaconda3/lib/python3.13/site-packages (from torch) (3.19.1)\n",
      "Requirement already satisfied: typing-extensions>=4.10.0 in /opt/anaconda3/lib/python3.13/site-packages (from torch) (4.15.0)\n",
      "Requirement already satisfied: setuptools in /opt/anaconda3/lib/python3.13/site-packages (from torch) (80.9.0)\n",
      "Requirement already satisfied: sympy>=1.13.3 in /opt/anaconda3/lib/python3.13/site-packages (from torch) (1.14.0)\n",
      "Requirement already satisfied: networkx in /opt/anaconda3/lib/python3.13/site-packages (from torch) (3.5)\n",
      "Requirement already satisfied: jinja2 in /opt/anaconda3/lib/python3.13/site-packages (from torch) (3.1.6)\n",
      "Requirement already satisfied: fsspec in /opt/anaconda3/lib/python3.13/site-packages (from torch) (2025.9.0)\n",
      "Requirement already satisfied: mpmath<1.4,>=1.1.0 in /opt/anaconda3/lib/python3.13/site-packages (from sympy>=1.13.3->torch) (1.3.0)\n",
      "Requirement already satisfied: MarkupSafe>=2.0 in /opt/anaconda3/lib/python3.13/site-packages (from jinja2->torch) (3.0.2)\n",
      "Looking in indexes: https://mirrors.aliyun.com/pypi/simple/\n",
      "Requirement already satisfied: torchvision in /opt/anaconda3/lib/python3.13/site-packages (0.23.0)\n",
      "Requirement already satisfied: numpy in /opt/anaconda3/lib/python3.13/site-packages (from torchvision) (2.3.3)\n",
      "Requirement already satisfied: torch==2.8.0 in /opt/anaconda3/lib/python3.13/site-packages (from torchvision) (2.8.0)\n",
      "Requirement already satisfied: pillow!=8.3.*,>=5.3.0 in /opt/anaconda3/lib/python3.13/site-packages (from torchvision) (11.3.0)\n",
      "Requirement already satisfied: filelock in /opt/anaconda3/lib/python3.13/site-packages (from torch==2.8.0->torchvision) (3.19.1)\n",
      "Requirement already satisfied: typing-extensions>=4.10.0 in /opt/anaconda3/lib/python3.13/site-packages (from torch==2.8.0->torchvision) (4.15.0)\n",
      "Requirement already satisfied: setuptools in /opt/anaconda3/lib/python3.13/site-packages (from torch==2.8.0->torchvision) (80.9.0)\n",
      "Requirement already satisfied: sympy>=1.13.3 in /opt/anaconda3/lib/python3.13/site-packages (from torch==2.8.0->torchvision) (1.14.0)\n",
      "Requirement already satisfied: networkx in /opt/anaconda3/lib/python3.13/site-packages (from torch==2.8.0->torchvision) (3.5)\n",
      "Requirement already satisfied: jinja2 in /opt/anaconda3/lib/python3.13/site-packages (from torch==2.8.0->torchvision) (3.1.6)\n",
      "Requirement already satisfied: fsspec in /opt/anaconda3/lib/python3.13/site-packages (from torch==2.8.0->torchvision) (2025.9.0)\n",
      "Requirement already satisfied: mpmath<1.4,>=1.1.0 in /opt/anaconda3/lib/python3.13/site-packages (from sympy>=1.13.3->torch==2.8.0->torchvision) (1.3.0)\n",
      "Requirement already satisfied: MarkupSafe>=2.0 in /opt/anaconda3/lib/python3.13/site-packages (from jinja2->torch==2.8.0->torchvision) (3.0.2)\n",
      "Looking in indexes: https://mirrors.aliyun.com/pypi/simple/\n",
      "Requirement already satisfied: pillow in /opt/anaconda3/lib/python3.13/site-packages (11.3.0)\n"
     ]
    }
   ],
   "source": [
    "!pip install torch\n",
    "!pip install torchvision\n",
    "!pip install pillow"
   ]
  },
  {
   "cell_type": "markdown",
   "id": "8b8d70e5-7ede-4fdd-8de4-1d0a81dad653",
   "metadata": {},
   "source": [
    "# Demo"
   ]
  },
  {
   "cell_type": "code",
   "execution_count": 17,
   "id": "51ac730d-20e0-44ff-9553-db7af9af5e9c",
   "metadata": {},
   "outputs": [],
   "source": [
    "import torch\n",
    "from torch.utils.data import Dataset\n",
    "\n",
    "class MyDataset(Dataset):\n",
    "    # 构造函数\n",
    "    def __init__(self, data_tensor, target_tensor):\n",
    "        self.data_tensor = data_tensor\n",
    "        self.target_tensor = target_tensor\n",
    "    # 返回数据集大小\n",
    "    def __len__(self):\n",
    "        return self.data_tensor.size(0)\n",
    "    # 返回索引的数据与标签\n",
    "    def __getitem__(self, index):\n",
    "        return self.data_tensor[index], self.target_tensor[index]"
   ]
  },
  {
   "cell_type": "code",
   "execution_count": 18,
   "id": "9fb71db8-2bf1-402a-bd28-bd32df2a2925",
   "metadata": {},
   "outputs": [
    {
     "name": "stdout",
     "output_type": "stream",
     "text": [
      "Dataset size: 10\n",
      "tensor_data[0]:  (tensor([-0.6677,  0.2662, -0.0669]), tensor(1))\n"
     ]
    }
   ],
   "source": [
    "# 生成数据\n",
    "data_tensor = torch.randn(10, 3) ## 10行，每行3个特征 (模拟输入数据)\n",
    "target_tensor = torch.randint(2, (10,))  # 10个标签，每个是 0 或 1 (分类任务)\n",
    "\n",
    "# 将数据封装成Dataset\n",
    "my_dataset = MyDataset(data_tensor, target_tensor)\n",
    "\n",
    "# 查看数据集大小\n",
    "print('Dataset size:', len(my_dataset))\n",
    "\n",
    "# 使用索引调用数据\n",
    "print('tensor_data[0]: ', my_dataset[0])\n"
   ]
  },
  {
   "cell_type": "code",
   "execution_count": 19,
   "id": "61a5e51a-aca9-4cf5-bf24-a5d9167ac3ea",
   "metadata": {},
   "outputs": [
    {
     "name": "stdout",
     "output_type": "stream",
     "text": [
      "One batch tensor data: tensor([[ 0.5456,  1.7860,  0.6354],\n",
      "        [-0.5621,  0.0771, -1.3772]]) tensor([0, 0])\n",
      "torch.Size([2, 3]) torch.Size([2])\n"
     ]
    }
   ],
   "source": [
    "from torch.utils.data import DataLoader\n",
    "\n",
    "tensor_dataloader = DataLoader(\n",
    "    dataset=my_dataset,  # 你自定义的 MyDataset\n",
    "    batch_size=2,        # 每次返回2条数据\n",
    "    shuffle=True,        # 每个epoch是否打乱顺序\n",
    "    num_workers=0        # 数据加载的进程数，0 表示仅用主进程\n",
    ")\n",
    "\n",
    "# 方式一：一步到位取一个 batch\n",
    "data, target = next(iter(tensor_dataloader))\n",
    "print('One batch tensor data:', data, target)\n",
    "\n",
    "# 方式二：先拿迭代器，再取\n",
    "it = iter(tensor_dataloader)\n",
    "data, target = next(it)\n",
    "print(data.shape, target.shape)  # e.g. torch.Size([2, 3]) torch.Size([2])\n",
    "\n",
    "\n",
    "#把 my_dataset 封装成 DataLoader，支持批量取数据。\n",
    "#设置每个 batch 里有 2 个样本，并且在每个 epoch 打乱数据。\n",
    "#用两种写法（直接 next(iter(...)) 和先 it = iter(...)）取出一个 batch。\n",
    "#打印出 batch 的数据和标签，确认它们的 shape。\n"
   ]
  },
  {
   "cell_type": "markdown",
   "id": "bd7ffcf1-5dbc-4d11-9d90-e5a5b7cb5120",
   "metadata": {},
   "source": [
    "## 利用torchvision读数据"
   ]
  },
  {
   "cell_type": "code",
   "execution_count": 22,
   "id": "d4340825-0944-4524-be4f-b507ff0ee95e",
   "metadata": {},
   "outputs": [
    {
     "name": "stderr",
     "output_type": "stream",
     "text": [
      "100%|█████████████████████████████████████████████████████████████████████████████| 9.91M/9.91M [01:57<00:00, 84.5kB/s]\n",
      "100%|█████████████████████████████████████████████████████████████████████████████| 28.9k/28.9k [00:00<00:00, 94.5kB/s]\n",
      "100%|█████████████████████████████████████████████████████████████████████████████| 1.65M/1.65M [00:26<00:00, 62.1kB/s]\n",
      "100%|█████████████████████████████████████████████████████████████████████████████| 4.54k/4.54k [00:00<00:00, 2.69MB/s]\n"
     ]
    }
   ],
   "source": [
    "# 以MNIST为例\n",
    "import torchvision\n",
    "mnist_dataset = torchvision.datasets.MNIST(root='./data',\n",
    "                                       train=True,\n",
    "                                       transform=None,\n",
    "                                       target_transform=None,\n",
    "                                       download=True)"
   ]
  },
  {
   "cell_type": "code",
   "execution_count": 24,
   "id": "ebef94ae-8dac-4abb-9989-dd14c5fa4875",
   "metadata": {},
   "outputs": [
    {
     "name": "stdout",
     "output_type": "stream",
     "text": [
      "Dataset size: 60000\n",
      "First sample: (<PIL.Image.Image image mode=L size=28x28 at 0x12E648CD0>, 5)\n"
     ]
    }
   ],
   "source": [
    "# 数据预览\n",
    "print(\"Dataset size:\", len(mnist_dataset))  # 60000\n",
    "print(\"First sample:\", mnist_dataset[0])   # 只看第一个样本"
   ]
  },
  {
   "cell_type": "code",
   "execution_count": null,
   "id": "729ea6bd-6296-43b4-b8ce-10416e67ebcf",
   "metadata": {},
   "outputs": [],
   "source": [
    "# 这里图像数据是 PIL.Image.Image 类型的，这种类型可以直接在 Jupyter 中显示出来。显示一条数据的代码如下。"
   ]
  },
  {
   "cell_type": "code",
   "execution_count": 25,
   "id": "70b7a682-4e19-4fa8-b855-4d2d33767ba0",
   "metadata": {},
   "outputs": [
    {
     "data": {
      "image/jpeg": "[encoded data removed]",
      "image/png": "[encoded data removed]",
      "text/plain": [
       "<PIL.Image.Image image mode=L size=28x28>"
      ]
     },
     "metadata": {},
     "output_type": "display_data"
    },
    {
     "name": "stdout",
     "output_type": "stream",
     "text": [
      "Image label is: 5\n"
     ]
    }
   ],
   "source": [
    "display(mnist_dataset_list[0][0])\n",
    "print(\"Image label is:\", mnist_dataset_list[0][1])"
   ]
  },
  {
   "cell_type": "code",
   "execution_count": null,
   "id": "31a411bb-9ce0-4884-bc7e-c4d5bd43db55",
   "metadata": {},
   "outputs": [],
   "source": []
  },
  {
   "cell_type": "code",
   "execution_count": null,
   "id": "9ab256ef-cf94-4dbf-a03e-06cdcd3d36bc",
   "metadata": {},
   "outputs": [],
   "source": []
  }
 ],
 "metadata": {
  "kernelspec": {
   "display_name": "Python 3 (ipykernel)",
   "language": "python",
   "name": "python3"
  },
  "language_info": {
   "codemirror_mode": {
    "name": "ipython",
    "version": 3
   },
   "file_extension": ".py",
   "mimetype": "text/x-python",
   "name": "python",
   "nbconvert_exporter": "python",
   "pygments_lexer": "ipython3",
   "version": "3.13.7"
  }
 },
 "nbformat": 4,
 "nbformat_minor": 5
}
