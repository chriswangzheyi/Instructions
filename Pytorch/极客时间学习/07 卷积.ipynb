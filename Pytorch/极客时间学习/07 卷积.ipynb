{
 "cells": [
  {
   "cell_type": "code",
   "execution_count": 27,
   "id": "45619530-d9ce-40c5-a740-e7e8599135c8",
   "metadata": {},
   "outputs": [
    {
     "name": "stdout",
     "output_type": "stream",
     "text": [
      "tensor([[4., 1., 7., 5.],\n",
      "        [4., 4., 2., 5.],\n",
      "        [7., 7., 2., 4.],\n",
      "        [1., 0., 2., 4.]])\n",
      "torch.Size([4, 4])\n"
     ]
    }
   ],
   "source": [
    "import torch\n",
    "import torch.nn as nn\n",
    "\n",
    "input_feat = torch.tensor([[4, 1, 7, 5], [4, 4, 2, 5], [7, 7, 2, 4], [1, 0, 2, 4]], dtype=torch.float32)\n",
    "\n",
    "#得到一个 4×4 的输入矩阵，shape 是 [4,4]。\n",
    "#这里相当于是一个单通道的“图像”。\n",
    "\n",
    "print(input_feat)\n",
    "print(input_feat.shape)"
   ]
  },
  {
   "cell_type": "code",
   "execution_count": 28,
   "id": "2c53b7ea-660d-4395-9810-a6f2d7594de6",
   "metadata": {},
   "outputs": [
    {
     "name": "stdout",
     "output_type": "stream",
     "text": [
      "Parameter containing:\n",
      "tensor([[[[-0.1912, -0.4746],\n",
      "          [-0.3670, -0.4834]]]], requires_grad=True)\n",
      "Parameter containing:\n",
      "tensor([0.1266], requires_grad=True)\n"
     ]
    }
   ],
   "source": [
    "conv2d = nn.Conv2d(1, 1, (2, 2), stride=1, padding='same', bias=True)\n",
    "\n",
    "#输入通道数 = 1\n",
    "#输出通道数 = 1\n",
    "#卷积核大小 = 2×2\n",
    "#步幅 stride = 1\n",
    "#padding='same' → 输出 shape 与输入相同 (4×4)\n",
    "#这里 PyTorch 会随机初始化卷积核参数 weight 和偏置 bias。\n",
    "\n",
    "print(conv2d.weight)\n",
    "print(conv2d.bias)"
   ]
  },
  {
   "cell_type": "markdown",
   "id": "bad10865-d905-497e-b592-7bf495da8769",
   "metadata": {},
   "source": [
    "### 手动指定卷积核"
   ]
  },
  {
   "cell_type": "code",
   "execution_count": 29,
   "id": "45f13306-bd01-483d-9587-c317bbc01aa3",
   "metadata": {},
   "outputs": [
    {
     "name": "stdout",
     "output_type": "stream",
     "text": [
      "Parameter containing:\n",
      "tensor([[[[1., 0.],\n",
      "          [2., 1.]]]])\n",
      "None\n"
     ]
    }
   ],
   "source": [
    "conv2d = nn.Conv2d(1, 1, (2, 2), stride=1, padding='same', bias=False)\n",
    "\n",
    "#新建了一个卷积层，并且 关闭 bias (bias=False)\n",
    "\n",
    "# 卷积核要有四个维度(输入通道数，输出通道数，高，宽)\n",
    "kernels = torch.tensor([[[[1, 0], [2, 1]]]], dtype=torch.float32)\n",
    "conv2d.weight = nn.Parameter(kernels, requires_grad=False)\n",
    "print(conv2d.weight)\n",
    "print(conv2d.bias)"
   ]
  },
  {
   "cell_type": "code",
   "execution_count": 30,
   "id": "78da9dd9-1701-4e41-a5f5-4f0b52eef8ef",
   "metadata": {},
   "outputs": [
    {
     "name": "stdout",
     "output_type": "stream",
     "text": [
      "tensor([[[[4., 1., 7., 5.],\n",
      "          [4., 4., 2., 5.],\n",
      "          [7., 7., 2., 4.],\n",
      "          [1., 0., 2., 4.]]]])\n",
      "torch.Size([1, 1, 4, 4])\n"
     ]
    }
   ],
   "source": [
    "input_feat = torch.tensor(\n",
    "    [[4, 1, 7, 5],\n",
    "     [4, 4, 2, 5],\n",
    "     [7, 7, 2, 4],\n",
    "     [1, 0, 2, 4]], dtype=torch.float32\n",
    ").unsqueeze(0).unsqueeze(0)\n",
    "\n",
    "#在 PyTorch 里，nn.Conv2d 的输入张量 shape 必须是 [batch_size, channels, height, width]：\n",
    "#batch_size：一次输入多少张图片（或样本）\n",
    "#channels：每张图片有多少通道（灰度图=1，彩色图=3）\n",
    "#height, width：图像的高和宽\n",
    "#unsqueeze(dim) 会在指定位置增加一个维度（大小=1）\n",
    "#第一次 .unsqueeze(0)：在最前面加一维 → [1, 4, 4]\n",
    "#第二次 .unsqueeze(0)：再在最前面加一维 → [1, 1, 4, 4]\n",
    "\n",
    "# torch.Size([1, 1, 4, 4]) ，这符合 PyTorch 卷积层 nn.Conv2d 的输入格式：(batch_size, channels, height, width\n",
    "#batch_size = 1（只有一张图片）\n",
    "#channels = 1（灰度图）\n",
    "#height, width = 4, 4\n",
    "\n",
    "print(input_feat)\n",
    "print(input_feat.shape)"
   ]
  },
  {
   "cell_type": "code",
   "execution_count": 31,
   "id": "458b1f7a-7f02-4fcd-9b9b-2aa457fc321f",
   "metadata": {},
   "outputs": [
    {
     "name": "stdout",
     "output_type": "stream",
     "text": [
      "tensor([[[[16., 11., 16., 15.],\n",
      "          [25., 20., 10., 13.],\n",
      "          [ 9.,  9., 10., 12.],\n",
      "          [ 1.,  0.,  2.,  4.]]]])\n"
     ]
    }
   ],
   "source": [
    "output = conv2d(input_feat)  #conv2d 卷积操作\n",
    "print(output)"
   ]
  },
  {
   "cell_type": "markdown",
   "id": "91ccf47f-fccc-45eb-8c09-43b650a30247",
   "metadata": {},
   "source": [
    "## 深度可分离卷积"
   ]
  },
  {
   "cell_type": "markdown",
   "id": "38cd0953-36de-443b-9c88-113dfff2002a",
   "metadata": {},
   "source": [
    "深度可分离卷积（Depthwise Separable Convolution）由 Depthwise（DW）和 Pointwise（PW）这两部分卷积组合而成的。\n",
    "深度可分离卷积就是在效果近似相同的情况下，需要的计算量更少\n",
    "\n",
    "\n",
    "\n",
    "### 传统卷积\n",
    "\n",
    "在传统卷积里：\n",
    "\n",
    "输入通常有多个通道（比如彩色图像有 R、G、B 三个通道）。\n",
    "一个卷积核（filter）会同时作用在所有通道上，然后输出一个特征图。\n",
    "如果你要输出很多个通道，就需要很多个卷积核，每个卷积核都对所有输入通道做一次完整的卷积。\n",
    "\n",
    "👉 问题：参数多、计算量大。\n",
    "\n",
    "### 深度可分离卷积\n",
    "\n",
    "它把卷积分成两步：\n",
    "\n",
    "#### 1.逐通道卷积（Depthwise Convolution）\n",
    "每个输入通道单独用一个卷积核去处理，不再混合通道。\n",
    "比如 RGB 三个通道，就分别用三个小卷积核处理，得到三个特征图。\n",
    "👉 这样只做“空间特征提取”，不做通道融合。\n",
    "\n",
    "#### 2.逐点卷积（Pointwise Convolution，1x1 卷积）\n",
    "用 1x1 卷积，把上一步得到的特征图按通道再组合起来。\n",
    "这里负责“通道之间的信息融合”。\n",
    "\n",
    "### 直观类比\n",
    "\n",
    "#### 传统卷积就像：\n",
    "你在做一道菜时，所有的原料（通道）一次性混合着切、炒、调味，步骤一锅端。\n",
    "\n",
    "#### 深度可分离卷积就像：\n",
    "先把每种原料（通道）单独切好（Depthwise），\n",
    "再用调料（1x1 卷积）把它们混合成一道菜。\n",
    "👉 这样步骤分开，效率更高。"
   ]
  },
  {
   "cell_type": "code",
   "execution_count": 32,
   "id": "4a785f70-a3c2-44d7-917b-583547e86afb",
   "metadata": {},
   "outputs": [
    {
     "name": "stdout",
     "output_type": "stream",
     "text": [
      "torch.Size([1, 3, 5, 5])\n"
     ]
    }
   ],
   "source": [
    "import torch\n",
    "import torch.nn as nn\n",
    "\n",
    "# 生成一个三通道的5x5特征图\n",
    "x = torch.rand((3, 5, 5)).unsqueeze(0)\n",
    "print(x.shape)\n",
    "# 输出：\n",
    "torch.Size([1, 3, 5, 5])\n",
    "# 请注意DW中，输入特征通道数与输出通道数是一样的\n",
    "in_channels_dw = x.shape[1]\n",
    "out_channels_dw = x.shape[1]\n",
    "# 一般来讲DW卷积的kernel size为3\n",
    "kernel_size = 3\n",
    "stride = 1\n",
    "# DW卷积groups参数与输入通道数一样\n",
    "dw = nn.Conv2d(in_channels_dw, out_channels_dw, kernel_size, stride, groups=in_channels_dw)"
   ]
  },
  {
   "cell_type": "code",
   "execution_count": 33,
   "id": "395e0609-644c-44ba-aafb-41b41dba6345",
   "metadata": {},
   "outputs": [
    {
     "name": "stdout",
     "output_type": "stream",
     "text": [
      "torch.Size([1, 4, 3, 3])\n"
     ]
    }
   ],
   "source": [
    "in_channels_pw = out_channels_dw\n",
    "out_channels_pw = 4\n",
    "kernel_size_pw = 1\n",
    "pw = nn.Conv2d(in_channels_pw, out_channels_pw, kernel_size_pw, stride)\n",
    "out = pw(dw(x))\n",
    "print(out.shape)"
   ]
  },
  {
   "cell_type": "markdown",
   "id": "0c2c2985-88d7-4717-b34a-3e45ebd1947c",
   "metadata": {},
   "source": [
    "# 空洞卷积"
   ]
  },
  {
   "cell_type": "markdown",
   "id": "fe169646-8abd-4562-ae70-3f2c9b16e64b",
   "metadata": {},
   "source": [
    "空洞卷积经常用于图像分割任务当中。图像分割任务的目的是要做到 pixel-wise 的输出，也就是说，对于图片中的每一个像素点，模型都要进行预测。\n",
    "对于一个图像分割模型，通常会采用多层卷积来提取特征的，随着层数的不断加深，感受野也越来越大\n",
    "\n",
    "\n",
    "普通卷积核是连续取点的，比如 3×3 卷积就是把周围 9 个点都扫一遍。\n",
    "而 空洞卷积在卷积核里“挖空”，在采样点之间插入空格（dilation rate），让卷积核看得更远。"
   ]
  },
  {
   "cell_type": "markdown",
   "id": "5b5484eb-aaf6-4662-b7c9-cc77ef34ee1c",
   "metadata": {},
   "source": [
    "### 感受野\n",
    "\n"
   ]
  },
  {
   "cell_type": "markdown",
   "id": "0d60ac67-6e25-47d1-a501-19e73af5f9fe",
   "metadata": {},
   "source": [
    "![](Images/1.png)"
   ]
  },
  {
   "cell_type": "code",
   "execution_count": null,
   "id": "4ef43d72-8ba6-4314-b14b-b1f0f642ac65",
   "metadata": {},
   "outputs": [
    {
     "name": "stdout",
     "output_type": "stream",
     "text": [
      "input shape: torch.Size([1, 3, 5, 5])\n",
      "dilated conv output shape: torch.Size([1, 4, 5, 5])\n"
     ]
    }
   ],
   "source": [
    "# 空洞卷积\n",
    "import torch\n",
    "import torch.nn as nn\n",
    "\n",
    "# 生成一个三通道的 5x5 特征图，形状 [N, C, H, W] = [1, 3, 5, 5]\n",
    "x = torch.rand((3, 5, 5)).unsqueeze(0)\n",
    "print('input shape:', x.shape)  # torch.Size([1, 3, 5, 5])\n",
    "\n",
    "# -------------------------------\n",
    "# 1) 普通空洞卷积（Dilated Convolution）\n",
    "# -------------------------------\n",
    "in_channels = x.shape[1]\n",
    "out_channels = 4          # 随便举例：输出通道设为 4\n",
    "kernel_size = 3\n",
    "stride = 1\n",
    "dilation = 2              # 空洞（膨胀）率，>1 即为空洞卷积\n",
    "# 为了保持输出空间尺寸与输入一致（same padding 的效果），\n",
    "# 当 kernel=3 时，padding 通常设置为 dilation\n",
    "padding = dilation\n",
    "\n",
    "dilated_conv = nn.Conv2d(\n",
    "    in_channels=in_channels,\n",
    "    out_channels=out_channels,\n",
    "    kernel_size=kernel_size,\n",
    "    stride=stride,\n",
    "    padding=padding,\n",
    "    dilation=dilation,     # 关键参数：空洞率\n",
    "    bias=True\n",
    ")\n",
    "\n",
    "y = dilated_conv(x)\n",
    "print('dilated conv output shape:', y.shape)\n",
    "# 说明：当 kernel=3, stride=1, padding=dilation 时，输出 H/W 与输入相同\n",
    "# 这里是 torch.Size([1, 4, 5, 5])"
   ]
  },
  {
   "cell_type": "markdown",
   "id": "9385f413",
   "metadata": {},
   "source": [
    "![](Images/2.gif)"
   ]
  },
  {
   "cell_type": "code",
   "execution_count": null,
   "id": "f577aa7d-da3a-422a-a8a3-732ebb05183c",
   "metadata": {},
   "outputs": [
    {
     "name": "stdout",
     "output_type": "stream",
     "text": [
      "dilated depthwise output shape: torch.Size([1, 3, 5, 5])\n"
     ]
    }
   ],
   "source": [
    "# -------------------------------\n",
    "# 2)（可选）空洞版 Depthwise（逐通道）卷积\n",
    "#    — 把 groups 设为 in_channels，再加 dilation\n",
    "# -------------------------------\n",
    "in_channels_dw = x.shape[1]\n",
    "out_channels_dw = in_channels_dw  # depthwise：输入通道=输出通道\n",
    "kernel_size_dw = 3\n",
    "stride_dw = 1\n",
    "dilation_dw = 2\n",
    "padding_dw = dilation_dw          # 同理，为了保持尺寸\n",
    "\n",
    "dw_dilated = nn.Conv2d(\n",
    "    in_channels=in_channels_dw,\n",
    "    out_channels=out_channels_dw,\n",
    "    kernel_size=kernel_size_dw,\n",
    "    stride=stride_dw,\n",
    "    padding=padding_dw,\n",
    "    dilation=dilation_dw,\n",
    "    groups=in_channels_dw,  # 关键：逐通道\n",
    "    bias=True\n",
    ")\n",
    "\n",
    "y_dw = dw_dilated(x)\n",
    "print('dilated depthwise output shape:', y_dw.shape)"
   ]
  },
  {
   "cell_type": "code",
   "execution_count": null,
   "id": "646b05b0-3083-464c-a456-2121a4345dd6",
   "metadata": {},
   "outputs": [],
   "source": [
    "#要点速记：\n",
    "#只要在 nn.Conv2d 里把 dilation 设成 >1 就是空洞卷积。\n",
    "#若想“尺寸不变”，一般用 padding = dilation（在 kernel_size=3、stride=1 的常见设置下）。\n",
    "#空洞版 depthwise：在上面再加 groups=in_channels。"
   ]
  }
 ],
 "metadata": {
  "kernelspec": {
   "display_name": "Python 3 (ipykernel)",
   "language": "python",
   "name": "python3"
  },
  "language_info": {
   "codemirror_mode": {
    "name": "ipython",
    "version": 3
   },
   "file_extension": ".py",
   "mimetype": "text/x-python",
   "name": "python",
   "nbconvert_exporter": "python",
   "pygments_lexer": "ipython3",
   "version": "3.13.7"
  }
 },
 "nbformat": 4,
 "nbformat_minor": 5
}
