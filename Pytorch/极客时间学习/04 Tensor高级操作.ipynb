{
 "cells": [
  {
   "cell_type": "code",
   "execution_count": 1,
   "id": "91f826c5-5b1e-4f23-8353-5431b412629d",
   "metadata": {},
   "outputs": [
    {
     "name": "stdout",
     "output_type": "stream",
     "text": [
      "Looking in indexes: https://mirrors.aliyun.com/pypi/simple/\n",
      "Requirement already satisfied: torch in /opt/anaconda3/lib/python3.13/site-packages (2.8.0)\n",
      "Requirement already satisfied: filelock in /opt/anaconda3/lib/python3.13/site-packages (from torch) (3.19.1)\n",
      "Requirement already satisfied: typing-extensions>=4.10.0 in /opt/anaconda3/lib/python3.13/site-packages (from torch) (4.15.0)\n",
      "Requirement already satisfied: setuptools in /opt/anaconda3/lib/python3.13/site-packages (from torch) (80.9.0)\n",
      "Requirement already satisfied: sympy>=1.13.3 in /opt/anaconda3/lib/python3.13/site-packages (from torch) (1.14.0)\n",
      "Requirement already satisfied: networkx in /opt/anaconda3/lib/python3.13/site-packages (from torch) (3.5)\n",
      "Requirement already satisfied: jinja2 in /opt/anaconda3/lib/python3.13/site-packages (from torch) (3.1.6)\n",
      "Requirement already satisfied: fsspec in /opt/anaconda3/lib/python3.13/site-packages (from torch) (2025.9.0)\n",
      "Requirement already satisfied: mpmath<1.4,>=1.1.0 in /opt/anaconda3/lib/python3.13/site-packages (from sympy>=1.13.3->torch) (1.3.0)\n",
      "Requirement already satisfied: MarkupSafe>=2.0 in /opt/anaconda3/lib/python3.13/site-packages (from jinja2->torch) (3.0.2)\n"
     ]
    }
   ],
   "source": [
    "!pip install torch"
   ]
  },
  {
   "cell_type": "markdown",
   "id": "58dfc04d-2dd4-4f93-abdf-962d51ac791e",
   "metadata": {},
   "source": [
    "##  cat"
   ]
  },
  {
   "cell_type": "code",
   "execution_count": 3,
   "id": "2ae33d35-2f45-4c55-b980-3b11baed9f64",
   "metadata": {},
   "outputs": [],
   "source": [
    "import torch  \n",
    "A=torch.ones(3,3)\n",
    "B=2*torch.ones(3,3)"
   ]
  },
  {
   "cell_type": "code",
   "execution_count": 4,
   "id": "ad89cf97-5405-4fcb-92a0-d01f9a0b2851",
   "metadata": {},
   "outputs": [
    {
     "data": {
      "text/plain": [
       "tensor([[1., 1., 1.],\n",
       "        [1., 1., 1.],\n",
       "        [1., 1., 1.]])"
      ]
     },
     "execution_count": 4,
     "metadata": {},
     "output_type": "execute_result"
    }
   ],
   "source": [
    "A"
   ]
  },
  {
   "cell_type": "code",
   "execution_count": 5,
   "id": "2290318c-ffa5-4acc-8ef0-4c1a403e8a9e",
   "metadata": {},
   "outputs": [
    {
     "data": {
      "text/plain": [
       "tensor([[2., 2., 2.],\n",
       "        [2., 2., 2.],\n",
       "        [2., 2., 2.]])"
      ]
     },
     "execution_count": 5,
     "metadata": {},
     "output_type": "execute_result"
    }
   ],
   "source": [
    "B"
   ]
  },
  {
   "cell_type": "code",
   "execution_count": 6,
   "id": "39ef47ee-9ef7-4f34-9a05-6e31fe3b7659",
   "metadata": {},
   "outputs": [],
   "source": [
    "C=torch.cat((A,B),0)"
   ]
  },
  {
   "cell_type": "code",
   "execution_count": 7,
   "id": "5e067070-8933-4664-96e6-85600a65d982",
   "metadata": {},
   "outputs": [
    {
     "data": {
      "text/plain": [
       "tensor([[1., 1., 1.],\n",
       "        [1., 1., 1.],\n",
       "        [1., 1., 1.],\n",
       "        [2., 2., 2.],\n",
       "        [2., 2., 2.],\n",
       "        [2., 2., 2.]])"
      ]
     },
     "execution_count": 7,
     "metadata": {},
     "output_type": "execute_result"
    }
   ],
   "source": [
    "C"
   ]
  },
  {
   "cell_type": "code",
   "execution_count": 8,
   "id": "b71e9fe2-3889-4f5f-ba6b-8ee3de4d875e",
   "metadata": {},
   "outputs": [
    {
     "data": {
      "text/plain": [
       "tensor([[1., 1., 1., 2., 2., 2.],\n",
       "        [1., 1., 1., 2., 2., 2.],\n",
       "        [1., 1., 1., 2., 2., 2.]])"
      ]
     },
     "execution_count": 8,
     "metadata": {},
     "output_type": "execute_result"
    }
   ],
   "source": [
    "D=torch.cat((A,B),1)\n",
    "D\n"
   ]
  },
  {
   "cell_type": "markdown",
   "id": "61f74ab8-f3a5-4c6b-b225-0ef5008afe79",
   "metadata": {},
   "source": [
    "# stack"
   ]
  },
  {
   "cell_type": "code",
   "execution_count": 10,
   "id": "375f23c4-0ad8-4c14-ae16-b24bb558cde6",
   "metadata": {},
   "outputs": [
    {
     "data": {
      "text/plain": [
       "tensor([0, 1, 2, 3])"
      ]
     },
     "execution_count": 10,
     "metadata": {},
     "output_type": "execute_result"
    }
   ],
   "source": [
    "A=torch.arange(0,4)\n",
    "A"
   ]
  },
  {
   "cell_type": "code",
   "execution_count": 11,
   "id": "de3bb116-3a6f-48ab-86c2-5f8aafe39e10",
   "metadata": {},
   "outputs": [
    {
     "data": {
      "text/plain": [
       "tensor([5, 6, 7, 8])"
      ]
     },
     "execution_count": 11,
     "metadata": {},
     "output_type": "execute_result"
    }
   ],
   "source": [
    "B=torch.arange(5,9)\n",
    "B"
   ]
  },
  {
   "cell_type": "code",
   "execution_count": 12,
   "id": "cfb773a9-2499-4d1f-a29d-0b54af663db8",
   "metadata": {},
   "outputs": [
    {
     "data": {
      "text/plain": [
       "tensor([[0, 1, 2, 3],\n",
       "        [5, 6, 7, 8]])"
      ]
     },
     "execution_count": 12,
     "metadata": {},
     "output_type": "execute_result"
    }
   ],
   "source": [
    "C=torch.stack((A,B),0)\n",
    "C"
   ]
  },
  {
   "cell_type": "code",
   "execution_count": 13,
   "id": "823b12c6-decb-41fa-8a0a-34208fd05bf2",
   "metadata": {},
   "outputs": [
    {
     "data": {
      "text/plain": [
       "tensor([[0, 5],\n",
       "        [1, 6],\n",
       "        [2, 7],\n",
       "        [3, 8]])"
      ]
     },
     "execution_count": 13,
     "metadata": {},
     "output_type": "execute_result"
    }
   ],
   "source": [
    "D=torch.stack((A,B),1)\n",
    "D"
   ]
  },
  {
   "cell_type": "markdown",
   "id": "8c0381da-0439-4ea4-903b-d7932be061ca",
   "metadata": {},
   "source": [
    "## 切分操作"
   ]
  },
  {
   "cell_type": "code",
   "execution_count": 14,
   "id": "40c8c932-dc64-405d-bc69-28a7615783d1",
   "metadata": {},
   "outputs": [
    {
     "data": {
      "text/plain": [
       "(tensor([1, 2, 3, 4, 5]), tensor([ 6,  7,  8,  9, 10]))"
      ]
     },
     "execution_count": 14,
     "metadata": {},
     "output_type": "execute_result"
    }
   ],
   "source": [
    "# Chunk\n",
    "A=torch.tensor([1,2,3,4,5,6,7,8,9,10])\n",
    "B = torch.chunk(A, 2, 0)\n",
    "B"
   ]
  },
  {
   "cell_type": "code",
   "execution_count": 15,
   "id": "b24161a7-729f-40de-bdf1-0efd9cf8617f",
   "metadata": {},
   "outputs": [
    {
     "data": {
      "text/plain": [
       "tensor([[1., 1., 1., 1.],\n",
       "        [1., 1., 1., 1.],\n",
       "        [1., 1., 1., 1.],\n",
       "        [1., 1., 1., 1.]])"
      ]
     },
     "execution_count": 15,
     "metadata": {},
     "output_type": "execute_result"
    }
   ],
   "source": [
    "A=torch.ones(4,4)\n",
    "A"
   ]
  },
  {
   "cell_type": "code",
   "execution_count": 16,
   "id": "3cec6aa3-17a6-4302-ba75-5ee8c03ea2f9",
   "metadata": {},
   "outputs": [
    {
     "data": {
      "text/plain": [
       "(tensor([[1., 1., 1., 1.],\n",
       "         [1., 1., 1., 1.]]),\n",
       " tensor([[1., 1., 1., 1.],\n",
       "         [1., 1., 1., 1.]]))"
      ]
     },
     "execution_count": 16,
     "metadata": {},
     "output_type": "execute_result"
    }
   ],
   "source": [
    "B = torch.chunk(A, 2, 0)\n",
    "B"
   ]
  },
  {
   "cell_type": "code",
   "execution_count": 17,
   "id": "a32c648f-00e4-4fe1-b7fe-7c78e345cf15",
   "metadata": {},
   "outputs": [
    {
     "data": {
      "text/plain": [
       "tensor([[0.6338, 0.5422, 0.6483, 0.9628],\n",
       "        [0.0427, 0.5781, 0.5659, 0.0278],\n",
       "        [0.6519, 0.4606, 0.2304, 0.2385],\n",
       "        [0.1015, 0.4277, 0.5853, 0.4152]])"
      ]
     },
     "execution_count": 17,
     "metadata": {},
     "output_type": "execute_result"
    }
   ],
   "source": [
    "# split\n",
    "A=torch.rand(4,4)\n",
    "A"
   ]
  },
  {
   "cell_type": "code",
   "execution_count": 18,
   "id": "fac5e594-f2f9-4c0a-96da-441d49e2d3ef",
   "metadata": {},
   "outputs": [
    {
     "data": {
      "text/plain": [
       "(tensor([[0.6338, 0.5422, 0.6483, 0.9628],\n",
       "         [0.0427, 0.5781, 0.5659, 0.0278]]),\n",
       " tensor([[0.6519, 0.4606, 0.2304, 0.2385],\n",
       "         [0.1015, 0.4277, 0.5853, 0.4152]]))"
      ]
     },
     "execution_count": 18,
     "metadata": {},
     "output_type": "execute_result"
    }
   ],
   "source": [
    "B=torch.split(A, 2, 0)\n",
    "B"
   ]
  },
  {
   "cell_type": "code",
   "execution_count": 19,
   "id": "7533dec5-c0fb-42c4-afcb-0401db8c0252",
   "metadata": {},
   "outputs": [
    {
     "data": {
      "text/plain": [
       "(tensor([[0.6338, 0.5422, 0.6483, 0.9628],\n",
       "         [0.0427, 0.5781, 0.5659, 0.0278],\n",
       "         [0.6519, 0.4606, 0.2304, 0.2385]]),\n",
       " tensor([[0.1015, 0.4277, 0.5853, 0.4152]]))"
      ]
     },
     "execution_count": 19,
     "metadata": {},
     "output_type": "execute_result"
    }
   ],
   "source": [
    "C=torch.split(A, 3, 0)\n",
    "C"
   ]
  },
  {
   "cell_type": "code",
   "execution_count": null,
   "id": "49b78d09-f6b3-4e98-9be3-9cda833c44b3",
   "metadata": {},
   "outputs": [],
   "source": [
    "# unbind"
   ]
  },
  {
   "cell_type": "code",
   "execution_count": 20,
   "id": "71175aa8-bdf1-4370-a64a-4a7cf20de417",
   "metadata": {},
   "outputs": [
    {
     "data": {
      "text/plain": [
       "tensor([[ 0,  1,  2,  3],\n",
       "        [ 4,  5,  6,  7],\n",
       "        [ 8,  9, 10, 11],\n",
       "        [12, 13, 14, 15]])"
      ]
     },
     "execution_count": 20,
     "metadata": {},
     "output_type": "execute_result"
    }
   ],
   "source": [
    "A=torch.arange(0,16).view(4,4)\n",
    "A"
   ]
  },
  {
   "cell_type": "code",
   "execution_count": 22,
   "id": "ef21629d-c67d-4a42-b65f-030b23e907bc",
   "metadata": {},
   "outputs": [
    {
     "data": {
      "text/plain": [
       "(tensor([0, 1, 2, 3]),\n",
       " tensor([4, 5, 6, 7]),\n",
       " tensor([ 8,  9, 10, 11]),\n",
       " tensor([12, 13, 14, 15]))"
      ]
     },
     "execution_count": 22,
     "metadata": {},
     "output_type": "execute_result"
    }
   ],
   "source": [
    "b=torch.unbind(A, 0)\n",
    "b"
   ]
  },
  {
   "cell_type": "markdown",
   "id": "426377fa-db58-4aeb-8dd6-dd77c3cf8ba6",
   "metadata": {},
   "source": [
    "## 索引"
   ]
  },
  {
   "cell_type": "code",
   "execution_count": 23,
   "id": "181d98b6-de86-4b0d-b5e0-3fc668644fb8",
   "metadata": {},
   "outputs": [
    {
     "data": {
      "text/plain": [
       "tensor([[ 0,  1,  2,  3],\n",
       "        [ 4,  5,  6,  7],\n",
       "        [ 8,  9, 10, 11],\n",
       "        [12, 13, 14, 15]])"
      ]
     },
     "execution_count": 23,
     "metadata": {},
     "output_type": "execute_result"
    }
   ],
   "source": [
    "#index_select\n",
    "A=torch.arange(0,16).view(4,4)\n",
    "A"
   ]
  },
  {
   "cell_type": "code",
   "execution_count": 24,
   "id": "a870bf27-1fec-4c6c-8d34-9f15b41f5c25",
   "metadata": {},
   "outputs": [
    {
     "data": {
      "text/plain": [
       "tensor([[ 4,  5,  6,  7],\n",
       "        [12, 13, 14, 15]])"
      ]
     },
     "execution_count": 24,
     "metadata": {},
     "output_type": "execute_result"
    }
   ],
   "source": [
    "B=torch.index_select(A,0,torch.tensor([1,3]))\n",
    "B\n",
    "\n",
    "#维度 0 = 行\n",
    "#从矩阵 A 里挑第 1 行和第 3 行（注意从 0 开始计数）"
   ]
  },
  {
   "cell_type": "code",
   "execution_count": 25,
   "id": "f06614be-aa89-4893-bc59-453abd8282d0",
   "metadata": {},
   "outputs": [
    {
     "data": {
      "text/plain": [
       "tensor([[ 0,  3],\n",
       "        [ 4,  7],\n",
       "        [ 8, 11],\n",
       "        [12, 15]])"
      ]
     },
     "execution_count": 25,
     "metadata": {},
     "output_type": "execute_result"
    }
   ],
   "source": [
    "C=torch.index_select(A,1,torch.tensor([0,3]))\n",
    "C\n",
    "\n",
    "#维度 1 = 列\n",
    "#从矩阵 A 里挑第 0 列和第 3 列"
   ]
  },
  {
   "cell_type": "code",
   "execution_count": null,
   "id": "5ae407a5-2657-4aec-80cd-a5acac537288",
   "metadata": {},
   "outputs": [],
   "source": [
    "#masked_select"
   ]
  },
  {
   "cell_type": "code",
   "execution_count": 26,
   "id": "01b35647-5f72-40e3-9e77-4cc89b89a2f2",
   "metadata": {},
   "outputs": [
    {
     "data": {
      "text/plain": [
       "tensor([0.8456, 0.1143, 0.0675, 0.7460, 0.1701])"
      ]
     },
     "execution_count": 26,
     "metadata": {},
     "output_type": "execute_result"
    }
   ],
   "source": [
    "A=torch.rand(5)\n",
    "A"
   ]
  },
  {
   "cell_type": "code",
   "execution_count": 28,
   "id": "ee709274-18eb-41e7-b453-e4d39cf6437e",
   "metadata": {},
   "outputs": [
    {
     "data": {
      "text/plain": [
       "tensor([ True, False, False,  True, False])"
      ]
     },
     "execution_count": 28,
     "metadata": {},
     "output_type": "execute_result"
    }
   ],
   "source": [
    "B=A>0.3\n",
    "B\n",
    "\n",
    "#新的 Tensor 其实就是一个掩码张量，它的每一位表示了一个判断条件是否成立的结果"
   ]
  },
  {
   "cell_type": "code",
   "execution_count": 29,
   "id": "c1e3f63a-40e8-4965-89b6-76913f719a34",
   "metadata": {},
   "outputs": [
    {
     "data": {
      "text/plain": [
       "tensor([0.8456, 0.7460])"
      ]
     },
     "execution_count": 29,
     "metadata": {},
     "output_type": "execute_result"
    }
   ],
   "source": [
    "C=torch.masked_select(A, B)\n",
    "C"
   ]
  },
  {
   "cell_type": "code",
   "execution_count": null,
   "id": "c0dbf80d-c8c7-4e96-8af1-d24461d9ddc2",
   "metadata": {},
   "outputs": [],
   "source": [
    "# 可简化为\n",
    "C=torch.masked_select(A, A>0.3)\n",
    "C"
   ]
  }
 ],
 "metadata": {
  "kernelspec": {
   "display_name": "Python 3 (ipykernel)",
   "language": "python",
   "name": "python3"
  },
  "language_info": {
   "codemirror_mode": {
    "name": "ipython",
    "version": 3
   },
   "file_extension": ".py",
   "mimetype": "text/x-python",
   "name": "python",
   "nbconvert_exporter": "python",
   "pygments_lexer": "ipython3",
   "version": "3.13.7"
  }
 },
 "nbformat": 4,
 "nbformat_minor": 5
}
