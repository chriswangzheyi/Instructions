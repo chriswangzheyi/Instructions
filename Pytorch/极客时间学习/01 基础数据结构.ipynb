{
 "cells": [
  {
   "cell_type": "markdown",
   "id": "bc5af53b-ab38-472b-86c4-1b7607ea57fb",
   "metadata": {},
   "source": [
    "# 创建数组"
   ]
  },
  {
   "cell_type": "code",
   "execution_count": 80,
   "id": "c5ecaec2-7aa2-466b-8a11-f67d9f47aa09",
   "metadata": {},
   "outputs": [
    {
     "name": "stdout",
     "output_type": "stream",
     "text": [
      "Looking in indexes: https://mirrors.aliyun.com/pypi/simple/\n",
      "Requirement already satisfied: numpy in /opt/anaconda3/lib/python3.13/site-packages (2.3.3)\n",
      "Looking in indexes: https://mirrors.aliyun.com/pypi/simple/\n",
      "Requirement already satisfied: matplotlib in /opt/anaconda3/lib/python3.13/site-packages (3.10.6)\n",
      "Requirement already satisfied: contourpy>=1.0.1 in /opt/anaconda3/lib/python3.13/site-packages (from matplotlib) (1.3.3)\n",
      "Requirement already satisfied: cycler>=0.10 in /opt/anaconda3/lib/python3.13/site-packages (from matplotlib) (0.12.1)\n",
      "Requirement already satisfied: fonttools>=4.22.0 in /opt/anaconda3/lib/python3.13/site-packages (from matplotlib) (4.60.0)\n",
      "Requirement already satisfied: kiwisolver>=1.3.1 in /opt/anaconda3/lib/python3.13/site-packages (from matplotlib) (1.4.9)\n",
      "Requirement already satisfied: numpy>=1.23 in /opt/anaconda3/lib/python3.13/site-packages (from matplotlib) (2.3.3)\n",
      "Requirement already satisfied: packaging>=20.0 in /opt/anaconda3/lib/python3.13/site-packages (from matplotlib) (25.0)\n",
      "Requirement already satisfied: pillow>=8 in /opt/anaconda3/lib/python3.13/site-packages (from matplotlib) (11.3.0)\n",
      "Requirement already satisfied: pyparsing>=2.3.1 in /opt/anaconda3/lib/python3.13/site-packages (from matplotlib) (3.2.4)\n",
      "Requirement already satisfied: python-dateutil>=2.7 in /opt/anaconda3/lib/python3.13/site-packages (from matplotlib) (2.9.0.post0)\n",
      "Requirement already satisfied: six>=1.5 in /opt/anaconda3/lib/python3.13/site-packages (from python-dateutil>=2.7->matplotlib) (1.17.0)\n"
     ]
    }
   ],
   "source": [
    "!pip install numpy\n",
    "!pip install matplotlib"
   ]
  },
  {
   "cell_type": "code",
   "execution_count": 81,
   "id": "72b0fa25-7a72-4492-840e-9e8aa2dbca2c",
   "metadata": {},
   "outputs": [
    {
     "name": "stdout",
     "output_type": "stream",
     "text": [
      "[1]\n"
     ]
    }
   ],
   "source": [
    "import numpy as np\n",
    "\n",
    "## 一维数组\n",
    "arr_1_d = np.asarray([1])\n",
    "print(arr_1_d)"
   ]
  },
  {
   "cell_type": "code",
   "execution_count": 82,
   "id": "f2af7c49-18ca-4736-8d39-3bc228d9b6a7",
   "metadata": {},
   "outputs": [
    {
     "name": "stdout",
     "output_type": "stream",
     "text": [
      "[[1 2]\n",
      " [3 4]]\n"
     ]
    }
   ],
   "source": [
    "## 二维数组\n",
    "arr_2_d = np.asarray([[1, 2], [3, 4]])\n",
    "print(arr_2_d)"
   ]
  },
  {
   "cell_type": "code",
   "execution_count": 83,
   "id": "4fbf328e-5486-4a85-9d38-ec1081a5bffe",
   "metadata": {},
   "outputs": [
    {
     "name": "stdout",
     "output_type": "stream",
     "text": [
      "1\n"
     ]
    }
   ],
   "source": [
    "# 数组维度\n",
    "print(arr_1_d.ndim)"
   ]
  },
  {
   "cell_type": "code",
   "execution_count": 84,
   "id": "d44492bf-aa65-4226-b8c1-73550fe89139",
   "metadata": {},
   "outputs": [
    {
     "name": "stdout",
     "output_type": "stream",
     "text": [
      "2\n"
     ]
    }
   ],
   "source": [
    "print(arr_2_d.ndim)"
   ]
  },
  {
   "cell_type": "code",
   "execution_count": 85,
   "id": "4fe82b8e-849b-4231-be69-e6181255ecc1",
   "metadata": {},
   "outputs": [
    {
     "name": "stdout",
     "output_type": "stream",
     "text": [
      "(1,)\n"
     ]
    }
   ],
   "source": [
    "# 数组形状\n",
    "print(arr_1_d.shape)"
   ]
  },
  {
   "cell_type": "code",
   "execution_count": 86,
   "id": "35c13b5d-2b24-4043-bede-6959b4342f8b",
   "metadata": {},
   "outputs": [
    {
     "name": "stdout",
     "output_type": "stream",
     "text": [
      "(2, 2)\n"
     ]
    }
   ],
   "source": [
    "print(arr_2_d.shape)"
   ]
  },
  {
   "cell_type": "code",
   "execution_count": 87,
   "id": "d5bc1450-6293-49c4-9fa5-97d115690932",
   "metadata": {},
   "outputs": [],
   "source": [
    "# 改变形状"
   ]
  },
  {
   "cell_type": "code",
   "execution_count": 88,
   "id": "e13f3df5-6c9e-4e65-acbf-e1c46714b8da",
   "metadata": {},
   "outputs": [
    {
     "name": "stdout",
     "output_type": "stream",
     "text": [
      "[[1]\n",
      " [2]\n",
      " [3]\n",
      " [4]]\n"
     ]
    }
   ],
   "source": [
    "print(arr_2_d.reshape((4, 1)))"
   ]
  },
  {
   "cell_type": "code",
   "execution_count": 89,
   "id": "d54e0acd-0833-4272-800c-2197c9027409",
   "metadata": {},
   "outputs": [
    {
     "name": "stdout",
     "output_type": "stream",
     "text": [
      "4\n"
     ]
    }
   ],
   "source": [
    "# Size\n",
    "print(arr_2_d.size)"
   ]
  },
  {
   "cell_type": "code",
   "execution_count": 90,
   "id": "ce764e2a-fc74-4fa9-b7e8-6e8c46403363",
   "metadata": {},
   "outputs": [
    {
     "name": "stdout",
     "output_type": "stream",
     "text": [
      "int64\n"
     ]
    }
   ],
   "source": [
    "# dtype 它是一个描述数组中元素类型的对象\n",
    "print(arr_2_d.dtype)"
   ]
  },
  {
   "cell_type": "code",
   "execution_count": 91,
   "id": "d4de333b-fb40-47a8-bf2a-612d09ec0fac",
   "metadata": {},
   "outputs": [
    {
     "name": "stdout",
     "output_type": "stream",
     "text": [
      "float64\n"
     ]
    }
   ],
   "source": [
    "# 指定数据类型\n",
    "arr_2_d = np.asarray([[1, 2], [3, 4]], dtype='float')\n",
    "print(arr_2_d.dtype)"
   ]
  },
  {
   "cell_type": "code",
   "execution_count": 92,
   "id": "db1e49c1-5cac-49d6-831a-535a7febd813",
   "metadata": {},
   "outputs": [
    {
     "data": {
      "text/plain": [
       "array([[1., 1., 1.],\n",
       "       [1., 1., 1.]])"
      ]
     },
     "execution_count": 92,
     "metadata": {},
     "output_type": "execute_result"
    }
   ],
   "source": [
    "# np.ones() 创建一个全 1 的数组\n",
    "np.ones(shape=(2,3))"
   ]
  },
  {
   "cell_type": "code",
   "execution_count": 93,
   "id": "71fe1d74-0d0b-4f18-88e6-1b96d3321c06",
   "metadata": {},
   "outputs": [],
   "source": [
    "# np.zeros() 创建一个全 1 的数组"
   ]
  },
  {
   "cell_type": "code",
   "execution_count": 94,
   "id": "993b7252-dd17-4ccb-bc66-4782a28321ed",
   "metadata": {},
   "outputs": [
    {
     "data": {
      "text/plain": [
       "array([[0., 0., 0.],\n",
       "       [0., 0., 0.]])"
      ]
     },
     "execution_count": 94,
     "metadata": {},
     "output_type": "execute_result"
    }
   ],
   "source": [
    "np.zeros(shape=(2,3))"
   ]
  },
  {
   "cell_type": "code",
   "execution_count": 95,
   "id": "2b2b065c-6145-4a4a-8274-bad24b5834de",
   "metadata": {},
   "outputs": [],
   "source": [
    "# np.arange() 创建一个在[start, stop) 区间的数组,元素之间的跨度是 step"
   ]
  },
  {
   "cell_type": "code",
   "execution_count": 96,
   "id": "76d3537d-5285-4dd1-a7d4-fc917ef67d7e",
   "metadata": {},
   "outputs": [
    {
     "data": {
      "text/plain": [
       "array([0, 1, 2, 3, 4])"
      ]
     },
     "execution_count": 96,
     "metadata": {},
     "output_type": "execute_result"
    }
   ],
   "source": [
    "np.arange(5)"
   ]
  },
  {
   "cell_type": "code",
   "execution_count": 97,
   "id": "a60a0f1c-b188-4b5a-ad00-8ebe3c41e253",
   "metadata": {},
   "outputs": [
    {
     "data": {
      "text/plain": [
       "array([2, 3, 4])"
      ]
     },
     "execution_count": 97,
     "metadata": {},
     "output_type": "execute_result"
    }
   ],
   "source": [
    "np.arange(2, 5)"
   ]
  },
  {
   "cell_type": "code",
   "execution_count": 98,
   "id": "50bf8b72-cf6a-48a9-bd6d-40ebee10b0e1",
   "metadata": {},
   "outputs": [
    {
     "data": {
      "text/plain": [
       "array([2, 5, 8])"
      ]
     },
     "execution_count": 98,
     "metadata": {},
     "output_type": "execute_result"
    }
   ],
   "source": [
    "np.arange(2, 9, 3)"
   ]
  },
  {
   "cell_type": "code",
   "execution_count": 99,
   "id": "07ef1001-1a6e-4c82-add5-93edeefd8b04",
   "metadata": {},
   "outputs": [],
   "source": [
    "# np.linspace()  具体就是创建一个从开始数值到结束数值的等差数列。"
   ]
  },
  {
   "cell_type": "code",
   "execution_count": 100,
   "id": "06aa5947-26b8-49f8-b22c-ce4406ca3fc0",
   "metadata": {},
   "outputs": [
    {
     "data": {
      "text/plain": [
       "array([ 2.,  6., 10.])"
      ]
     },
     "execution_count": 100,
     "metadata": {},
     "output_type": "execute_result"
    }
   ],
   "source": [
    "np.linspace(start=2, stop=10, num=3)"
   ]
  },
  {
   "cell_type": "code",
   "execution_count": 101,
   "id": "0f838877-5090-4afd-ade6-85f7309fce2e",
   "metadata": {},
   "outputs": [],
   "source": [
    "# 比如画图，X轴可以用 np.linespace() 来生成。"
   ]
  },
  {
   "cell_type": "code",
   "execution_count": 104,
   "id": "0f9f6bb9-da70-4dc1-a2f4-f44dc2a3da3d",
   "metadata": {},
   "outputs": [
    {
     "data": {
      "image/png": "[encoded data removed]",
      "text/plain": [
       "<Figure size 640x480 with 1 Axes>"
      ]
     },
     "metadata": {},
     "output_type": "display_data"
    }
   ],
   "source": [
    "import matplotlib.pyplot as plt\n",
    "\n",
    "# 设置中文字体\n",
    "plt.rcParams[\"font.family\"] = [\"SimHei\", \"WenQuanYi Micro Hei\", \"Heiti TC\"]\n",
    "\n",
    "X = np.arange(-50, 51, 2)\n",
    "Y = X ** 2\n",
    "\n",
    "plt.plot(X, Y, color='blue',label='曲线')\n",
    "plt.legend()\n",
    "plt.show()"
   ]
  },
  {
   "cell_type": "code",
   "execution_count": null,
   "id": "00d168d2-e16b-44b3-9fa0-8b422de8faf9",
   "metadata": {},
   "outputs": [],
   "source": []
  },
  {
   "cell_type": "code",
   "execution_count": null,
   "id": "b9c6ac3b-f362-4213-af4f-4ff2f75ae51e",
   "metadata": {},
   "outputs": [],
   "source": []
  }
 ],
 "metadata": {
  "kernelspec": {
   "display_name": "Python 3 (ipykernel)",
   "language": "python",
   "name": "python3"
  },
  "language_info": {
   "codemirror_mode": {
    "name": "ipython",
    "version": 3
   },
   "file_extension": ".py",
   "mimetype": "text/x-python",
   "name": "python",
   "nbconvert_exporter": "python",
   "pygments_lexer": "ipython3",
   "version": "3.13.7"
  }
 },
 "nbformat": 4,
 "nbformat_minor": 5
}
