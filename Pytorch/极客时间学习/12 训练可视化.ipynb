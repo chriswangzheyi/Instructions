{
 "cells": [
  {
   "cell_type": "code",
   "execution_count": 1,
   "id": "69f3e567-f14e-432b-ab31-18b5fe661fc5",
   "metadata": {},
   "outputs": [
    {
     "name": "stdout",
     "output_type": "stream",
     "text": [
      "Looking in indexes: https://mirrors.aliyun.com/pypi/simple/\n",
      "Requirement already satisfied: tensorboard in /opt/anaconda3/lib/python3.13/site-packages (2.20.0)\n",
      "Requirement already satisfied: absl-py>=0.4 in /opt/anaconda3/lib/python3.13/site-packages (from tensorboard) (2.3.1)\n",
      "Requirement already satisfied: grpcio>=1.48.2 in /opt/anaconda3/lib/python3.13/site-packages (from tensorboard) (1.75.1)\n",
      "Requirement already satisfied: markdown>=2.6.8 in /opt/anaconda3/lib/python3.13/site-packages (from tensorboard) (3.9)\n",
      "Requirement already satisfied: numpy>=1.12.0 in /opt/anaconda3/lib/python3.13/site-packages (from tensorboard) (2.3.3)\n",
      "Requirement already satisfied: packaging in /opt/anaconda3/lib/python3.13/site-packages (from tensorboard) (25.0)\n",
      "Requirement already satisfied: pillow in /opt/anaconda3/lib/python3.13/site-packages (from tensorboard) (11.3.0)\n",
      "Requirement already satisfied: protobuf!=4.24.0,>=3.19.6 in /opt/anaconda3/lib/python3.13/site-packages (from tensorboard) (6.32.1)\n",
      "Requirement already satisfied: setuptools>=41.0.0 in /opt/anaconda3/lib/python3.13/site-packages (from tensorboard) (80.9.0)\n",
      "Requirement already satisfied: tensorboard-data-server<0.8.0,>=0.7.0 in /opt/anaconda3/lib/python3.13/site-packages (from tensorboard) (0.7.2)\n",
      "Requirement already satisfied: werkzeug>=1.0.1 in /opt/anaconda3/lib/python3.13/site-packages (from tensorboard) (3.1.3)\n",
      "Requirement already satisfied: typing-extensions~=4.12 in /opt/anaconda3/lib/python3.13/site-packages (from grpcio>=1.48.2->tensorboard) (4.15.0)\n",
      "Requirement already satisfied: MarkupSafe>=2.1.1 in /opt/anaconda3/lib/python3.13/site-packages (from werkzeug>=1.0.1->tensorboard) (3.0.2)\n",
      "Looking in indexes: https://mirrors.aliyun.com/pypi/simple/\n",
      "Requirement already satisfied: tensorboardX in /opt/anaconda3/lib/python3.13/site-packages (2.6.4)\n",
      "Requirement already satisfied: numpy in /opt/anaconda3/lib/python3.13/site-packages (from tensorboardX) (2.3.3)\n",
      "Requirement already satisfied: packaging in /opt/anaconda3/lib/python3.13/site-packages (from tensorboardX) (25.0)\n",
      "Requirement already satisfied: protobuf>=3.20 in /opt/anaconda3/lib/python3.13/site-packages (from tensorboardX) (6.32.1)\n"
     ]
    }
   ],
   "source": [
    "!pip install tensorboard\n",
    "!pip install tensorboardX"
   ]
  },
  {
   "cell_type": "markdown",
   "id": "e19f6f3d-4da3-45ed-8664-fabdaf632974",
   "metadata": {},
   "source": [
    "# Tensorboard"
   ]
  },
  {
   "cell_type": "markdown",
   "id": "9da60f55-6929-4549-b7fe-f421f963a89e",
   "metadata": {},
   "source": [
    "Tensorboard 是 TensorFlow 的一个附加工具，用于记录训练过程的模型的参数、评价指标与图像等细节内容，并通过 Web 页面提供查看细节与过程的功能，用浏览器可视化的形式展现，帮助我们在实验时观察神经网络的训练过程，把握训练趋势。"
   ]
  },
  {
   "cell_type": "code",
   "execution_count": 2,
   "id": "cc5e114d-8546-4989-81dc-389ca22d3b95",
   "metadata": {},
   "outputs": [
    {
     "name": "stdout",
     "output_type": "stream",
     "text": [
      "logs 写在 runs/demo\n"
     ]
    }
   ],
   "source": [
    "# 为了使用 TensorboardX，我们首先需要创建一个 SummaryWriter 的实例，然后再使用add_scalar方法或add_image方法，将数字或图片记录到 SummaryWriter 实例中。\n",
    "\n",
    "import torch\n",
    "from torch.utils.tensorboard import SummaryWriter\n",
    "\n",
    "# 1) 创建 writer（建议指定目录）\n",
    "writer = SummaryWriter(log_dir=\"runs/demo\")\n",
    "\n",
    "# 2) 记录一个标量\n",
    "tag = \"train/loss\"\n",
    "scalar_value = 0.123\n",
    "writer.add_scalar(tag, scalar_value, global_step=0)\n",
    "\n",
    "# 3) 记录一张图片（CHW）\n",
    "img_tensor = torch.rand(3, 224, 224)  # 3x224x224\n",
    "writer.add_image(\"sample/image\", img_tensor, global_step=0, dataformats=\"CHW\")\n",
    "\n",
    "writer.close()\n",
    "print(\"logs 写在 runs/demo\")\n"
   ]
  },
  {
   "cell_type": "markdown",
   "id": "9a0d221a-cb19-4114-a900-7a7d90a7fc99",
   "metadata": {},
   "source": [
    "另外一个例子:"
   ]
  },
  {
   "cell_type": "code",
   "execution_count": 3,
   "id": "5b63da9f-906f-4a73-9faa-fe4754fd687f",
   "metadata": {},
   "outputs": [],
   "source": [
    "from torch.utils.tensorboard import SummaryWriter\n",
    "# PyTorch 1.8之前的版本请使用：\n",
    "# from tensorboardX import SummaryWriter\n",
    "import numpy as np\n",
    "\n",
    "# 创建一个SummaryWriter的实例\n",
    "writer = SummaryWriter()\n",
    "\n",
    "for n_iter in range(100):  #连续100步写入4条标量曲线\n",
    "    writer.add_scalar('Loss/train', np.random.random(), n_iter)     #模拟真实数据\n",
    "    writer.add_scalar('Loss/test', np.random.random(), n_iter)      #模拟真实数据\n",
    "    writer.add_scalar('Accuracy/train', np.random.random(), n_iter) #模拟真实数据\n",
    "    writer.add_scalar('Accuracy/test', np.random.random(), n_iter)  #模拟真实数据\n",
    "\n",
    "#写入一张 3 通道图片\n",
    "img = np.zeros((3, 100, 100))     # 形状是 C x H x W (CHW)\n",
    "img[0] = np.arange(0, 10000).reshape(100, 100) / 10000      # R通道：从黑到亮\n",
    "img[1] = 1 - np.arange(0, 10000).reshape(100, 100) / 10000     #G通道：从亮到黑\n",
    "\n",
    "writer.add_image('my_image', img, 0)\n",
    "writer.close()"
   ]
  },
  {
   "cell_type": "code",
   "execution_count": 4,
   "id": "f1935716-d3c5-4c2f-ba73-b1b4cde529bc",
   "metadata": {},
   "outputs": [],
   "source": [
    "# !tensorboard --logdir runs --port 6006\n",
    "# 注意：因为这个命令会阻断后续的步骤，如果需要看图，则取消注释"
   ]
  },
  {
   "cell_type": "markdown",
   "id": "78a6a238-452c-46a9-8d18-324861b0bff5",
   "metadata": {},
   "source": [
    "进入 http://localhost:6006 后可以看到图片：\n",
    "\n",
    "![](Images/12.png)\n",
    "\n",
    "\n",
    "点击Imag 标签可以看到可以显示刚刚用add_image方法记录的图像数据：\n",
    "\n",
    "\n",
    "![](Images/13.png)\n"
   ]
  },
  {
   "cell_type": "markdown",
   "id": "97ec84ee-62f9-4828-9aea-4ab652eb776a",
   "metadata": {},
   "source": [
    "### 训练过程可视化"
   ]
  },
  {
   "cell_type": "code",
   "execution_count": 5,
   "id": "2d96b21f-6c96-446e-b151-45897b441a3c",
   "metadata": {},
   "outputs": [],
   "source": [
    "import random\n",
    "import numpy as np\n",
    "import torch\n",
    "from torch import nn\n",
    "\n",
    "# 模型定义\n",
    "class LinearModel(nn.Module):\n",
    "  def __init__(self):\n",
    "    super().__init__()\n",
    "    self.weight = nn.Parameter(torch.randn(1))\n",
    "    self.bias = nn.Parameter(torch.randn(1))\n",
    "\n",
    "  def forward(self, input):\n",
    "    return (input * self.weight) + self.bias\n",
    "\n",
    "# 数据\n",
    "w = 2\n",
    "b = 3\n",
    "xlim = [-10, 10]\n",
    "x_train = np.random.randint(low=xlim[0], high=xlim[1], size=30)\n",
    "y_train = [w * x + b + random.randint(0,2) for x in x_train]"
   ]
  },
  {
   "cell_type": "code",
   "execution_count": 6,
   "id": "35c96b7c-7780-4552-ae5a-778b4a73c863",
   "metadata": {},
   "outputs": [],
   "source": [
    "# Tensorboard\n",
    "from torch.utils.tensorboard import SummaryWriter\n",
    "\n",
    "# 训练\n",
    "model = LinearModel()\n",
    "optimizer = torch.optim.SGD(model.parameters(), lr=1e-4, weight_decay=1e-2, momentum=0.9)\n",
    "y_train = torch.tensor(y_train, dtype=torch.float32)\n",
    "\n",
    "writer = SummaryWriter()\n",
    "\n",
    "for n_iter in range(500):\n",
    "    input = torch.from_numpy(x_train)\n",
    "    output = model(input)\n",
    "    loss = nn.MSELoss()(output, y_train)\n",
    "    model.zero_grad()\n",
    "    loss.backward()\n",
    "    optimizer.step()\n",
    "    writer.add_scalar('Loss/train', loss, n_iter)"
   ]
  },
  {
   "cell_type": "code",
   "execution_count": 7,
   "id": "366de584-c2dd-45f7-9999-eb8d1d137ac4",
   "metadata": {},
   "outputs": [],
   "source": [
    "# !tensorboard --logdir runs --port 6006\n",
    "# 注意：因为这个命令会阻断后续的步骤，如果需要看图，则取消注释"
   ]
  },
  {
   "cell_type": "markdown",
   "id": "474af201-a1f0-4c62-8a1c-fdf42fb3d540",
   "metadata": {},
   "source": [
    "进入 http://localhost:6006 后可以看到图片：\n",
    "\n",
    "![](Images/14.png)\n"
   ]
  }
 ],
 "metadata": {
  "kernelspec": {
   "display_name": "Python 3 (ipykernel)",
   "language": "python",
   "name": "python3"
  },
  "language_info": {
   "codemirror_mode": {
    "name": "ipython",
    "version": 3
   },
   "file_extension": ".py",
   "mimetype": "text/x-python",
   "name": "python",
   "nbconvert_exporter": "python",
   "pygments_lexer": "ipython3",
   "version": "3.13.7"
  }
 },
 "nbformat": 4,
 "nbformat_minor": 5
}
