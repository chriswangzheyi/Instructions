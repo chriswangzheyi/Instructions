{
 "cells": [
  {
   "cell_type": "code",
   "execution_count": null,
   "id": "22784515-e107-4546-ab79-ac0b96477260",
   "metadata": {},
   "outputs": [],
   "source": []
  },
  {
   "cell_type": "markdown",
   "id": "912c81f2-5420-49c4-b94d-c7a7b595e26c",
   "metadata": {},
   "source": [
    "先随机生成训练集 X 与对应的标签 Y"
   ]
  },
  {
   "cell_type": "code",
   "execution_count": 1,
   "id": "cd58e3a5-4bd4-42f3-81fc-5b58baf3f46b",
   "metadata": {},
   "outputs": [
    {
     "data": {
      "text/plain": [
       "[<matplotlib.lines.Line2D at 0x10bc00690>]"
      ]
     },
     "execution_count": 1,
     "metadata": {},
     "output_type": "execute_result"
    },
    {
     "data": {
      "image/png": "[encoded data removed]",
      "text/plain": [
       "<Figure size 640x480 with 1 Axes>"
      ]
     },
     "metadata": {},
     "output_type": "display_data"
    }
   ],
   "source": [
    "import numpy as np\n",
    "import random\n",
    "from matplotlib import pyplot as plt\n",
    "\n",
    "w = 2\n",
    "b = 3\n",
    "xlim = [-10, 10]\n",
    "x_train = np.random.randint(low=xlim[0], high=xlim[1], size=30)\n",
    "\n",
    "y_train = [w * x + b + random.randint(0,2) for x in x_train]\n",
    "\n",
    "plt.plot(x_train, y_train, 'bo')"
   ]
  },
  {
   "cell_type": "code",
   "execution_count": 2,
   "id": "394ce3d2-dc5d-4202-a269-81520d7fe40c",
   "metadata": {},
   "outputs": [],
   "source": [
    "import torch\n",
    "from torch import nn\n",
    "\n",
    "class LinearModel(nn.Module):  #必须继承 nn.Module 类\n",
    "  def __init__(self):\n",
    "    super().__init__()\n",
    "    #通常来说要把有需要学习的参数的层放到构造函数中\n",
    "    self.weight = nn.Parameter(torch.randn(1))\n",
    "    self.bias = nn.Parameter(torch.randn(1))\n",
    "\n",
    "  def forward(self, input): #forward()前向传播 是必须重写的方法\n",
    "    return (input * self.weight) + self.bias"
   ]
  },
  {
   "cell_type": "code",
   "execution_count": 3,
   "id": "2bab19b5-de98-420f-b511-57732b2ae644",
   "metadata": {},
   "outputs": [],
   "source": [
    "model = LinearModel()\n",
    "# 定义优化器\n",
    "optimizer = torch.optim.SGD(model.parameters(), lr=1e-4, weight_decay=1e-2, momentum=0.9)  #优化器（Optimizer）就是一个根据梯度信息自动更新模型参数的算法。\n",
    "\n",
    "y_train = torch.tensor(y_train, dtype=torch.float32) #把原本的 NumPy或Python数据（y_train）转成 PyTorch张量（Tensor），\n",
    "for _ in range(1000):\n",
    "    input = torch.from_numpy(x_train)\n",
    "    output = model(input)\n",
    "    loss = nn.MSELoss()(output, y_train)\n",
    "    model.zero_grad()\n",
    "    loss.backward()\n",
    "    optimizer.step()"
   ]
  },
  {
   "cell_type": "markdown",
   "id": "ff544f2f-25f9-43b1-a1b8-2a6b2f19ee0b",
   "metadata": {},
   "source": [
    "优化器：\n",
    "\n",
    "| 参数名                  | 含义                 | 举例解释                         |\n",
    "| -------------------- | ------------------ | ---------------------------- |\n",
    "| `model.parameters()` | 告诉优化器要更新哪些参数       | 就是 model 的 `weight` 和 `bias` |\n",
    "| `lr=1e-4`            | 学习率（learning rate） | 一次走多大步，下山步幅                  |\n",
    "| `momentum=0.9`       | 动量                 | 让梯度更新更平滑，不会左右乱晃              |\n",
    "| `weight_decay=1e-2`  | 权重衰减（L2正则化）        | 防止参数太大导致过拟合                  |\n"
   ]
  },
  {
   "cell_type": "markdown",
   "id": "e9a58681-2b01-44a3-8997-d16c711db2b4",
   "metadata": {},
   "source": [
    "优化器的工作流程:\n",
    "\n",
    "for _ in range(1000):\n",
    "\n",
    "    output = model(input)         # 1️⃣ 前向传播\n",
    "    \n",
    "    loss = nn.MSELoss()(output, y_train)  # 2️⃣ 计算损失\n",
    "    \n",
    "    model.zero_grad()             # 3️⃣ 清空旧梯度\n",
    "    \n",
    "    loss.backward()               # 4️⃣ 反向传播，计算梯度\n",
    "    \n",
    "    optimizer.step()              # 5️⃣ 优化器更新参数 ✅\n"
   ]
  },
  {
   "cell_type": "code",
   "execution_count": 4,
   "id": "f907fce1-5249-4bff-99aa-10f1a4622644",
   "metadata": {},
   "outputs": [
    {
     "name": "stdout",
     "output_type": "stream",
     "text": [
      "('weight', Parameter containing:\n",
      "tensor([2.0042], requires_grad=True))\n",
      "('bias', Parameter containing:\n",
      "tensor([3.3131], requires_grad=True))\n"
     ]
    }
   ],
   "source": [
    "#model.named_parameters() 会遍历模型中所有可训练参数（learnable parameters）\n",
    "\n",
    "for parameter in model.named_parameters():    \n",
    "  print(parameter)"
   ]
  },
  {
   "cell_type": "code",
   "execution_count": 5,
   "id": "c4b30b1c-da9b-4d52-a884-13e27b2c68b8",
   "metadata": {},
   "outputs": [],
   "source": [
    "# 定义一个新的神经网络层：输入 → Conv2d(输入通道→3) → Conv2d(3→输出通道) → 输出\n",
    "\n",
    "\n",
    "class CustomLayer(nn.Module):\n",
    "  def __init__(self, input_channels, output_channels):\n",
    "    super().__init__()\n",
    "    self.conv1_1 = nn.Conv2d(in_channels=input_channels, out_channels=3, kernel_size=3, padding='same')\n",
    "    self.conv1_2 = nn.Conv2d(in_channels=3, out_channels=output_channels, kernel_size=2, padding='same')\n",
    "    \n",
    "  def forward(self, input):\n",
    "    x = self.conv1_1(input)\n",
    "    x = self.conv1_2(x)\n",
    "    return x\n",
    "    "
   ]
  },
  {
   "cell_type": "markdown",
   "id": "37f99558-1d16-48fb-8063-c910fae6ac69",
   "metadata": {},
   "source": [
    "解释：\n",
    "\n",
    "第一层卷积：\n",
    "\n",
    "self.conv1_1 = nn.Conv2d(\n",
    "    in_channels=input_channels,   # 输入特征图的通道数（如RGB是3）\n",
    "    out_channels=3,               # 输出通道数=3\n",
    "    kernel_size=3,                # 卷积核大小 3x3\n",
    "    padding='same'                # 保持输入输出尺寸相同\n",
    ")\n",
    "\n",
    "\n",
    "👉 意思是：\n",
    "第一个卷积层接收输入通道数为 input_channels（例如图像3通道），\n",
    "输出3个通道的特征图。\n",
    "\n",
    "padding='same' 表示自动补零，让输出尺寸和输入一样大。\n",
    "\n",
    "第二层卷积\n",
    "\n",
    "self.conv1_2 = nn.Conv2d(\n",
    "    in_channels=3,                # 上一层输出通道=3\n",
    "    out_channels=output_channels, # 输出通道=你设定的值\n",
    "    kernel_size=2,\n",
    "    padding='same'\n",
    ")\n",
    "\n",
    "\n",
    "👉 意思是：\n",
    "第二层卷积从上一层的3个通道输入，\n",
    "输出 output_channels 个通道的特征图（比如64、128等）。\n",
    "\n",
    "\n",
    "\n",
    "def forward(self, input):\n",
    "    x = self.conv1_1(input)   # 第一次卷积\n",
    "    x = self.conv1_2(x)       # 第二次卷积\n",
    "    return x\n"
   ]
  },
  {
   "cell_type": "markdown",
   "id": "269d982d-f67d-40e2-b203-8099a1df7a8b",
   "metadata": {},
   "source": [
    "# 保存模型"
   ]
  },
  {
   "cell_type": "markdown",
   "id": "dcecc70d-cd8c-4179-b44c-7ac9f4346b9e",
   "metadata": {},
   "source": [
    "## 只保存训练好的参数"
   ]
  },
  {
   "cell_type": "code",
   "execution_count": 6,
   "id": "5ca9c976-ef6c-4eed-8656-db1d5912e16a",
   "metadata": {},
   "outputs": [],
   "source": [
    "torch.save(model.state_dict(), './linear_model.pth')   #第一个参数是模型的 state_dict，而第二个参数要保存的位置"
   ]
  },
  {
   "cell_type": "markdown",
   "id": "ad055600-ab08-495e-83b0-73dab1b8096d",
   "metadata": {},
   "source": [
    "代码中的 state_dict 是一个字典，在模型被定义之后会自动生成，存储的是模型可训练的参数。我们可以打印出线性回归模型的 state_dict，如下所示"
   ]
  },
  {
   "cell_type": "code",
   "execution_count": 7,
   "id": "c2f977ea-a693-4112-935f-275a03abf869",
   "metadata": {},
   "outputs": [
    {
     "data": {
      "text/plain": [
       "OrderedDict([('weight', tensor([2.0042])), ('bias', tensor([3.3131]))])"
      ]
     },
     "execution_count": 7,
     "metadata": {},
     "output_type": "execute_result"
    }
   ],
   "source": [
    "model.state_dict()"
   ]
  },
  {
   "cell_type": "markdown",
   "id": "b441f1ef-7a22-47ce-a41e-890b06865945",
   "metadata": {},
   "source": [
    "加载模型的方式如下所示："
   ]
  },
  {
   "cell_type": "code",
   "execution_count": 8,
   "id": "f9410db9-cc53-495b-8785-b42400be7af0",
   "metadata": {},
   "outputs": [
    {
     "name": "stdout",
     "output_type": "stream",
     "text": [
      "('weight', Parameter containing:\n",
      "tensor([2.0042], requires_grad=True))\n",
      "('bias', Parameter containing:\n",
      "tensor([3.3131], requires_grad=True))\n"
     ]
    }
   ],
   "source": [
    "# 先定义网络结构\n",
    "linear_model = LinearModel()\n",
    "# 加载保存的参数\n",
    "linear_model.load_state_dict(torch.load('./linear_model.pth'))\n",
    "linear_model.eval()\n",
    "for parameter in linear_model.named_parameters():\n",
    "  print(parameter)"
   ]
  },
  {
   "cell_type": "code",
   "execution_count": 9,
   "id": "491fac66-4040-4922-8116-e00bc335e3b2",
   "metadata": {},
   "outputs": [],
   "source": [
    "from torchvision import models\n",
    "from torchvision.models import AlexNet_Weights\n",
    "\n",
    "# 使用新写法加载预训练模型\n",
    "alexnet = models.alexnet(weights=AlexNet_Weights.IMAGENET1K_V1)\n",
    "# 或者使用默认权重\n",
    "# alexnet = models.alexnet(weights=AlexNet_Weights.DEFAULT)\n"
   ]
  },
  {
   "cell_type": "code",
   "execution_count": 10,
   "id": "46edc451-93ff-4763-8cc9-3229c904cb6b",
   "metadata": {},
   "outputs": [
    {
     "data": {
      "text/plain": [
       "tensor(264)"
      ]
     },
     "execution_count": 10,
     "metadata": {},
     "output_type": "execute_result"
    }
   ],
   "source": [
    "from PIL import Image\n",
    "import torchvision\n",
    "import torchvision.transforms as transforms\n",
    "\n",
    "im = Image.open('dog.webp')\n",
    "\n",
    "transform = transforms.Compose([\n",
    "    transforms.RandomResizedCrop((224,224)),\n",
    "    transforms.ToTensor(),\n",
    "    transforms.Normalize(mean=[0.485, 0.456, 0.406], std=[0.229, 0.224, 0.225])\n",
    "    ])\n",
    "\n",
    "input_tensor = transform(im).unsqueeze(0)\n",
    "alexnet(input_tensor).argmax()"
   ]
  },
  {
   "cell_type": "code",
   "execution_count": 11,
   "id": "c6e8eda7-5a79-4e1f-811b-64930171847e",
   "metadata": {},
   "outputs": [
    {
     "name": "stdout",
     "output_type": "stream",
     "text": [
      "papillon\n"
     ]
    }
   ],
   "source": [
    "# 157类是什么\n",
    "\n",
    "from torchvision.models import AlexNet_Weights\n",
    "\n",
    "weights = AlexNet_Weights.IMAGENET1K_V1\n",
    "categories = weights.meta[\"categories\"]\n",
    "\n",
    "print(categories[157])"
   ]
  },
  {
   "cell_type": "code",
   "execution_count": 12,
   "id": "0f0dbc1e-d977-4220-841d-ffbb83fab4a7",
   "metadata": {},
   "outputs": [
    {
     "name": "stdout",
     "output_type": "stream",
     "text": [
      "AlexNet(\n",
      "  (features): Sequential(\n",
      "    (0): Conv2d(3, 64, kernel_size=(11, 11), stride=(4, 4), padding=(2, 2))\n",
      "    (1): ReLU(inplace=True)\n",
      "    (2): MaxPool2d(kernel_size=3, stride=2, padding=0, dilation=1, ceil_mode=False)\n",
      "    (3): Conv2d(64, 192, kernel_size=(5, 5), stride=(1, 1), padding=(2, 2))\n",
      "    (4): ReLU(inplace=True)\n",
      "    (5): MaxPool2d(kernel_size=3, stride=2, padding=0, dilation=1, ceil_mode=False)\n",
      "    (6): Conv2d(192, 384, kernel_size=(3, 3), stride=(1, 1), padding=(1, 1))\n",
      "    (7): ReLU(inplace=True)\n",
      "    (8): Conv2d(384, 256, kernel_size=(3, 3), stride=(1, 1), padding=(1, 1))\n",
      "    (9): ReLU(inplace=True)\n",
      "    (10): Conv2d(256, 256, kernel_size=(3, 3), stride=(1, 1), padding=(1, 1))\n",
      "    (11): ReLU(inplace=True)\n",
      "    (12): MaxPool2d(kernel_size=3, stride=2, padding=0, dilation=1, ceil_mode=False)\n",
      "  )\n",
      "  (avgpool): AdaptiveAvgPool2d(output_size=(6, 6))\n",
      "  (classifier): Sequential(\n",
      "    (0): Dropout(p=0.5, inplace=False)\n",
      "    (1): Linear(in_features=9216, out_features=4096, bias=True)\n",
      "    (2): ReLU(inplace=True)\n",
      "    (3): Dropout(p=0.5, inplace=False)\n",
      "    (4): Linear(in_features=4096, out_features=4096, bias=True)\n",
      "    (5): ReLU(inplace=True)\n",
      "    (6): Linear(in_features=4096, out_features=1000, bias=True)\n",
      "  )\n",
      ")\n"
     ]
    }
   ],
   "source": [
    "print(alexnet)"
   ]
  },
  {
   "cell_type": "markdown",
   "id": "242bc7e3-14f1-4e3d-b7f3-b5ded408a19c",
   "metadata": {},
   "source": [
    "# 微调"
   ]
  },
  {
   "cell_type": "code",
   "execution_count": null,
   "id": "0ef4beef-c1ab-4e09-8f3a-3f99f8f9c972",
   "metadata": {},
   "outputs": [
    {
     "name": "stdout",
     "output_type": "stream",
     "text": [
      "Using device: mps\n",
      "Epoch 1/3 | train_loss=1.0278 acc=0.6336 | val_loss=0.6252 acc=0.7785\n"
     ]
    }
   ],
   "source": [
    "\"\"\"\n",
    "PyTorch 微调（Fine-tuning）AlexNet 简单示例（含 Apple MPS 加速）\n",
    "--------------------------------------------------\n",
    "功能：\n",
    "1. 使用 torchvision 自带的 AlexNet 预训练模型；\n",
    "2. 冻结特征提取层（features），只训练分类器层；\n",
    "3. 在 CIFAR-10 数据集上进行微调；\n",
    "4. 优先使用 Apple MPS（Metal），其次 CUDA，最后 CPU；\n",
    "5. 半精度 autocast（MPS/CUDA），自动下载数据与权重；\n",
    "6. 保存微调后的模型。\n",
    "\n",
    "运行环境（建议）：\n",
    "pip install torch torchvision\n",
    "\"\"\"\n",
    "\n",
    "import os\n",
    "import torch\n",
    "import torch.nn as nn\n",
    "from torch.utils.data import DataLoader\n",
    "from torchvision import datasets, transforms\n",
    "from torchvision.models import alexnet, AlexNet_Weights\n",
    "from contextlib import nullcontext\n",
    "\n",
    "# ============================================================\n",
    "# 1. 环境设置（优先使用 MPS，其次 CUDA）\n",
    "# ============================================================\n",
    "use_mps = torch.backends.mps.is_available() and torch.backends.mps.is_built()\n",
    "if use_mps:\n",
    "    device = \"mps\"\n",
    "elif torch.cuda.is_available():\n",
    "    device = \"cuda\"\n",
    "else:\n",
    "    device = \"cpu\"\n",
    "print(\"Using device:\", device)\n",
    "\n",
    "# （可选）macOS 上 DataLoader 建议使用 spawn\n",
    "try:\n",
    "    import torch.multiprocessing as mp\n",
    "    mp.set_start_method(\"spawn\", force=True)\n",
    "except RuntimeError:\n",
    "    pass\n",
    "\n",
    "# 是否启用 channels_last 加速（对 CNN 有时更快；若遇到不支持的算子可设为 False）\n",
    "USE_CHANNELS_LAST = True\n",
    "\n",
    "# ============================================================\n",
    "# 2. 加载预训练模型并冻结特征提取层\n",
    "# ============================================================\n",
    "# 从官方加载 ImageNet 预训练的 AlexNet 权重\n",
    "model = alexnet(weights=AlexNet_Weights.IMAGENET1K_V1)\n",
    "\n",
    "# 冻结特征提取层的参数（即卷积部分 features）\n",
    "for param in model.features.parameters():\n",
    "    param.requires_grad = False\n",
    "\n",
    "# 替换最后的全连接层，使输出类别数 = CIFAR10 的 10 类\n",
    "num_features = model.classifier[6].in_features\n",
    "model.classifier[6] = nn.Linear(num_features, 10)\n",
    "\n",
    "# 把模型放到相应设备\n",
    "model = model.to(device)\n",
    "\n",
    "# 可选：channels_last\n",
    "if USE_CHANNELS_LAST and device != \"cpu\":\n",
    "    model = model.to(memory_format=torch.channels_last)\n",
    "\n",
    "# ============================================================\n",
    "# 3. 数据准备（使用 AlexNet 权重自带的标准化参数）\n",
    "# ============================================================\n",
    "# 由于 AlexNet 是在 ImageNet 上训练的，输入大小应为 224×224\n",
    "# transforms 包括 Resize、Crop、Normalize 等；权重自带的 transforms 含 ToTensor+Normalize\n",
    "weight_tf = AlexNet_Weights.IMAGENET1K_V1.transforms()\n",
    "\n",
    "train_tf = transforms.Compose([\n",
    "    transforms.Resize(256),           # 调整短边到 256\n",
    "    transforms.CenterCrop(224),       # 中心裁剪到 224×224\n",
    "    transforms.RandAugment(),         # 随机数据增强（可删除以进一步提速）\n",
    "    weight_tf,                        # 包含 ToTensor + Normalize\n",
    "])\n",
    "test_tf = transforms.Compose([\n",
    "    transforms.Resize(256),\n",
    "    transforms.CenterCrop(224),\n",
    "    weight_tf,\n",
    "])\n",
    "\n",
    "# 自动下载 CIFAR10 数据集\n",
    "data_root = \"./data\"\n",
    "os.makedirs(data_root, exist_ok=True)\n",
    "train_ds = datasets.CIFAR10(root=data_root, train=True, download=True, transform=train_tf)\n",
    "test_ds  = datasets.CIFAR10(root=data_root, train=False, download=True, transform=test_tf)\n",
    "\n",
    "# 创建数据加载器（pin_memory 对 CUDA 有效，MPS/CPU 下关闭）\n",
    "pin = True if device == \"cuda\" else False\n",
    "num_workers = 2  # 可根据 CPU 核心数调整（2~4 较合适）\n",
    "batch_size_train = 64   # M 系列统一内存有限，如 OOM 可降到 32\n",
    "batch_size_test  = 128  # 可酌情调整\n",
    "\n",
    "train_loader = DataLoader(train_ds, batch_size=batch_size_train, shuffle=True,\n",
    "                          num_workers=num_workers, pin_memory=pin)\n",
    "test_loader  = DataLoader(test_ds,  batch_size=batch_size_test, shuffle=False,\n",
    "                          num_workers=num_workers, pin_memory=pin)\n",
    "\n",
    "# ============================================================\n",
    "# 4. 定义优化器和损失函数\n",
    "# ============================================================\n",
    "# 只优化 requires_grad=True 的参数（分类器层）\n",
    "optimizer = torch.optim.AdamW(filter(lambda p: p.requires_grad, model.parameters()),\n",
    "                              lr=2e-4, weight_decay=1e-4)\n",
    "criterion = nn.CrossEntropyLoss()\n",
    "\n",
    "# ============================================================\n",
    "# 5. AMP / autocast 上下文（MPS/CUDA 半精度）\n",
    "# ============================================================\n",
    "if device == \"mps\":\n",
    "    autocast_ctx = torch.autocast(device_type=\"mps\", dtype=torch.float16)\n",
    "    scaler = None  # MPS 无需 GradScaler\n",
    "elif device == \"cuda\":\n",
    "    from torch.cuda.amp import autocast as cuda_autocast, GradScaler\n",
    "    autocast_ctx = cuda_autocast(dtype=torch.float16)\n",
    "    scaler = GradScaler()\n",
    "else:\n",
    "    autocast_ctx = nullcontext()\n",
    "    scaler = None\n",
    "\n",
    "# ============================================================\n",
    "# 5+. 评估函数（计算平均损失和准确率）\n",
    "# ============================================================\n",
    "def evaluate(loader):\n",
    "    model.eval()\n",
    "    total_loss, total_acc, n = 0.0, 0.0, 0\n",
    "    with torch.no_grad():\n",
    "        for x, y in loader:\n",
    "            # 可选 channels_last：仅在非 CPU 且启用时转换\n",
    "            if USE_CHANNELS_LAST and device != \"cpu\":\n",
    "                x = x.to(device, memory_format=torch.channels_last, non_blocking=pin)\n",
    "            else:\n",
    "                x = x.to(device, non_blocking=pin)\n",
    "            y = y.to(device, non_blocking=pin)\n",
    "\n",
    "            with autocast_ctx:\n",
    "                logits = model(x)\n",
    "                loss = criterion(logits, y)\n",
    "\n",
    "            total_loss += float(loss.item()) * x.size(0)\n",
    "            total_acc  += (logits.argmax(1) == y).float().sum().item()\n",
    "            n += x.size(0)\n",
    "    return total_loss / n, total_acc / n\n",
    "\n",
    "# ============================================================\n",
    "# 6. 训练循环\n",
    "# ============================================================\n",
    "epochs = 3  # 为了快速演示只跑 3 个 epoch，可自行调大\n",
    "for epoch in range(1, epochs + 1):\n",
    "    model.train()\n",
    "    running_loss, running_acc, total = 0.0, 0.0, 0\n",
    "\n",
    "    for images, labels in train_loader:\n",
    "        # 可选 channels_last：仅在非 CPU 且启用时转换\n",
    "        if USE_CHANNELS_LAST and device != \"cpu\":\n",
    "            images = images.to(device, memory_format=torch.channels_last, non_blocking=pin)\n",
    "        else:\n",
    "            images = images.to(device, non_blocking=pin)\n",
    "        labels = labels.to(device, non_blocking=pin)\n",
    "\n",
    "        optimizer.zero_grad(set_to_none=True)\n",
    "\n",
    "        # 前向 + 计算 loss（半精度）\n",
    "        with autocast_ctx:\n",
    "            outputs = model(images)\n",
    "            loss = criterion(outputs, labels)\n",
    "\n",
    "        # 反向传播与参数更新（CUDA 用 GradScaler，MPS/CPU 直接 backward）\n",
    "        if scaler is not None:\n",
    "            scaler.scale(loss).backward()\n",
    "            scaler.step(optimizer)\n",
    "            scaler.update()\n",
    "        else:\n",
    "            loss.backward()\n",
    "            optimizer.step()\n",
    "\n",
    "        # 统计训练准确率与损失\n",
    "        running_loss += float(loss.item()) * images.size(0)\n",
    "        running_acc  += (outputs.argmax(1) == labels).float().sum().item()\n",
    "        total += images.size(0)\n",
    "\n",
    "    train_loss = running_loss / total\n",
    "    train_acc  = running_acc / total\n",
    "    val_loss, val_acc = evaluate(test_loader)\n",
    "\n",
    "    print(f\"Epoch {epoch}/{epochs} | \"\n",
    "          f\"train_loss={train_loss:.4f} acc={train_acc:.4f} | \"\n",
    "          f\"val_loss={val_loss:.4f} acc={val_acc:.4f}\")\n",
    "\n",
    "# ============================================================\n",
    "# 7. 可选：解冻部分卷积层进一步精调\n",
    "# ============================================================\n",
    "# 常见策略：先冻结特征层，稳定分类器；再解冻后几层继续训练（效果更好）\n",
    "# for param in model.features[6:].parameters():\n",
    "#     param.requires_grad = True\n",
    "# optimizer = torch.optim.AdamW(model.parameters(), lr=1e-4)\n",
    "# 再跑若干 epoch ...\n",
    "\n",
    "# ============================================================\n",
    "# 8. 保存模型权重\n",
    "# ============================================================\n",
    "save_path = \"alexnet_cifar10_finetuned.pth\"\n",
    "torch.save(model.state_dict(), save_path)\n",
    "print(f\"✅ 模型已保存到 {save_path}\")\n"
   ]
  },
  {
   "cell_type": "code",
   "execution_count": null,
   "id": "c0acd6f5-86fe-41bf-ba3f-c9eb28579d01",
   "metadata": {},
   "outputs": [],
   "source": []
  }
 ],
 "metadata": {
  "kernelspec": {
   "display_name": "Python 3 (ipykernel)",
   "language": "python",
   "name": "python3"
  },
  "language_info": {
   "codemirror_mode": {
    "name": "ipython",
    "version": 3
   },
   "file_extension": ".py",
   "mimetype": "text/x-python",
   "name": "python",
   "nbconvert_exporter": "python",
   "pygments_lexer": "ipython3",
   "version": "3.13.7"
  }
 },
 "nbformat": 4,
 "nbformat_minor": 5
}
